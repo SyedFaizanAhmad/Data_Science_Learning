{
 "cells": [
  {
   "cell_type": "markdown",
   "id": "f32229fa-527a-4287-924c-d74fa6f03be7",
   "metadata": {},
   "source": [
    "Ans 1 ) Python Programming Language was developed by Dutch programmer named Guido van Rossum."
   ]
  },
  {
   "cell_type": "markdown",
   "id": "b0e2f213-386a-475f-afdc-3bacb845e75d",
   "metadata": {},
   "source": [
    "Ans 2) Python supports multiple programming paradigms, including structured (particularly procedural), object-oriented and functional programming."
   ]
  },
  {
   "cell_type": "markdown",
   "id": "5da97f1b-d265-4723-a271-cc72e445dfb7",
   "metadata": {},
   "source": [
    "Ans 3 ) Yes, Python is case sensitive when dealing with identifiers."
   ]
  },
  {
   "cell_type": "markdown",
   "id": "f93e0d8e-56a0-4518-8320-d97c4728c399",
   "metadata": {},
   "source": [
    "Ans 4) The correct extension of Python file is .py"
   ]
  },
  {
   "cell_type": "markdown",
   "id": "d6d8eabd-b479-4ea2-a845-b0d1b089d10f",
   "metadata": {},
   "source": [
    "Ans 5) Python is an interpreted language, which means the source code of a Python program is converted into bytecode that is then executed by the Python virtual machine."
   ]
  },
  {
   "cell_type": "markdown",
   "id": "5c8e1317-4cd3-4d15-b7b9-d31060e151cb",
   "metadata": {},
   "source": [
    "Ans 6) Some blocks in Python are modules, function, classes, method etc."
   ]
  },
  {
   "cell_type": "markdown",
   "id": "efac336d-3521-41a5-b4e7-1e29c5fea214",
   "metadata": {},
   "source": [
    "Ans 7) # (Hash) is used to give single line comments in Python.\n",
    "Ans 8) Python version can be found in many ways. Following are few methods:\n",
    "   sys.version\n",
    "   python_version()  function\n",
    "   python -v  command from command line\n",
    "Ans 9) lambda\n",
    "Ans 10) PIP stands for Preferred Installer program in Python.\n",
    "Ans 11) Some built in functions are : len(),max(),min(),ord()\n",
    "Ans 12) 79 characters.\n",
    "Ans 13) Benefits of usig Python:\n",
    "     a. It is easy and simple to use.\n",
    "     b. Provides in built libraries for majority of work.\n",
    "     c. Freeware\n",
    "     d. Can fulfil complex requirements.\n",
    "Ans 14) Memory management in Python involves a private heap containing all Python objects and data structures. \n",
    "     The management of this private heap is ensured internally by the Python memory manager.\n",
    "Ans 15) We can download python online and then install it. For steps, we can search google and follow the steps.\n",
    "Ans 16) Indentation is very crucial for Python. The control of the programme primarily depends on indentation."
   ]
  },
  {
   "cell_type": "code",
   "execution_count": null,
   "id": "fa0deff8-a4a2-4341-bb3a-5c44c2d740da",
   "metadata": {},
   "outputs": [],
   "source": []
  }
 ],
 "metadata": {
  "kernelspec": {
   "display_name": "Python 3 (ipykernel)",
   "language": "python",
   "name": "python3"
  },
  "language_info": {
   "codemirror_mode": {
    "name": "ipython",
    "version": 3
   },
   "file_extension": ".py",
   "mimetype": "text/x-python",
   "name": "python",
   "nbconvert_exporter": "python",
   "pygments_lexer": "ipython3",
   "version": "3.10.8"
  }
 },
 "nbformat": 4,
 "nbformat_minor": 5
}
