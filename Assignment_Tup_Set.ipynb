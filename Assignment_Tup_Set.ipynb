{
 "cells": [
  {
   "cell_type": "markdown",
   "id": "a20df8a8-3259-4f8f-abf8-791c15e45b8f",
   "metadata": {},
   "source": [
    "Ans 1 ) : Following are the characteristics of a tuple:\n",
    "    They are indexed.\n",
    "    Tuples are ordered.\n",
    "    They can contain duplicate items.\n",
    "    Yes,, tuples ae immutable."
   ]
  },
  {
   "cell_type": "markdown",
   "id": "5aa49eed-e1e5-4a78-91ea-98632c7e5b2d",
   "metadata": {},
   "source": [
    "Ans 2) The two tuple methods are count() and index().\n",
    "       The count method calculates the number of the input value in the tuple whereas the index gives the index value of the input within the given range.\n",
    "       If the value is not found within the range, it gives error.\n",
    "       Tuples have only tw methods as they are immutable.\n",
    "        Examples are given below:"
   ]
  },
  {
   "cell_type": "code",
   "execution_count": 3,
   "id": "7ea1213b-dfa9-48d2-b678-ea7348b0b3dc",
   "metadata": {},
   "outputs": [
    {
     "data": {
      "text/plain": [
       "2"
      ]
     },
     "execution_count": 3,
     "metadata": {},
     "output_type": "execute_result"
    }
   ],
   "source": [
    "t =(1,2,3,4,6,3,4,5)\n",
    "t.count(3)"
   ]
  },
  {
   "cell_type": "code",
   "execution_count": 7,
   "id": "453d64cb-6a6e-409b-90b9-ae48e6a408d1",
   "metadata": {},
   "outputs": [
    {
     "data": {
      "text/plain": [
       "1"
      ]
     },
     "execution_count": 7,
     "metadata": {},
     "output_type": "execute_result"
    }
   ],
   "source": [
    "t.index(2,0,6)"
   ]
  },
  {
   "cell_type": "markdown",
   "id": "9666b821-b3f0-4ed9-b6cf-1739cfc9f444",
   "metadata": {},
   "source": [
    " Ans 3) Set does not allow havng duplicate items"
   ]
  },
  {
   "cell_type": "code",
   "execution_count": 8,
   "id": "c8d0461c-a00a-42ad-8c32-0c382f4a93d9",
   "metadata": {},
   "outputs": [],
   "source": [
    "lst = [1, 1, 1, 2, 1, 3, 1, 4, 2, 1, 2, 2, 2, 3, 2, 4, 3, 1, 3, 2, 3, 3, 3, 4, 4, 1, 4, 2, 4, 3, 4, 4]"
   ]
  },
  {
   "cell_type": "code",
   "execution_count": 10,
   "id": "3bff2bd0-e426-4f26-a9fe-bffccfb92b5f",
   "metadata": {},
   "outputs": [
    {
     "name": "stdout",
     "output_type": "stream",
     "text": [
      "{1, 2, 3, 4}\n"
     ]
    }
   ],
   "source": [
    "print(set(lst))"
   ]
  },
  {
   "cell_type": "markdown",
   "id": "2d0d7ed5-1223-4fc2-8180-cb1ea2c16d51",
   "metadata": {},
   "source": [
    "Ans 4) Both set.update() and set.union() perform the union operation. However, set.update() adds all missing elements to the set on which it is called whereas set.union() creates a new set.\n",
    "Consequently, the return value of set.update() is None (with side effects) and the return value of set.union() is a set (without side effects)."
   ]
  },
  {
   "cell_type": "code",
   "execution_count": 11,
   "id": "e3c8e2cf-de02-424f-8127-7c95b817982e",
   "metadata": {},
   "outputs": [],
   "source": [
    " s ={1,2,3}"
   ]
  },
  {
   "cell_type": "code",
   "execution_count": 15,
   "id": "d65224e4-17b9-45b5-a626-c36084cbe48c",
   "metadata": {},
   "outputs": [],
   "source": [
    "s.update({4,5})"
   ]
  },
  {
   "cell_type": "code",
   "execution_count": 16,
   "id": "b45f7ff0-b2d7-4e39-9656-6c0fa3a95406",
   "metadata": {},
   "outputs": [
    {
     "data": {
      "text/plain": [
       "{1, 2, 3, 4, 5}"
      ]
     },
     "execution_count": 16,
     "metadata": {},
     "output_type": "execute_result"
    }
   ],
   "source": [
    "s"
   ]
  },
  {
   "cell_type": "code",
   "execution_count": 17,
   "id": "9cf78175-950c-4e83-a459-c5a4e75806bb",
   "metadata": {},
   "outputs": [
    {
     "data": {
      "text/plain": [
       "{1, 2, 3, 4, 5, 6, 7}"
      ]
     },
     "execution_count": 17,
     "metadata": {},
     "output_type": "execute_result"
    }
   ],
   "source": [
    "s.union({6,7})"
   ]
  },
  {
   "cell_type": "code",
   "execution_count": 18,
   "id": "e3dc6de2-56e4-4b47-be9d-492f00c91c1e",
   "metadata": {},
   "outputs": [
    {
     "name": "stdout",
     "output_type": "stream",
     "text": [
      "{1, 2, 3, 4, 5}\n"
     ]
    }
   ],
   "source": [
    "print(s)"
   ]
  },
  {
   "cell_type": "markdown",
   "id": "6369c5ce-2c09-4e94-9e4f-ef94489b3a34",
   "metadata": {},
   "source": [
    "Here we see the union created a new set whereas the s set is not updated with union method"
   ]
  },
  {
   "cell_type": "markdown",
   "id": "be06f08c-dede-4897-ad6e-b36135d2de69",
   "metadata": {},
   "source": [
    "Ans 5) Dictionary is a datatype in python that stores data in key-value pairs.  A dictionary is a collection which is ordered, changeable and do not allow duplicates wrt key."
   ]
  },
  {
   "cell_type": "code",
   "execution_count": 20,
   "id": "a0a6aeae-51ab-4896-aa76-7b39193f0ff2",
   "metadata": {},
   "outputs": [],
   "source": [
    "dictn ={\"a\":1,\"b\":2,\"c\":3}"
   ]
  },
  {
   "cell_type": "code",
   "execution_count": 24,
   "id": "79e143b1-ccd2-4dee-ae4e-f1f41ca199d5",
   "metadata": {},
   "outputs": [
    {
     "name": "stdout",
     "output_type": "stream",
     "text": [
      "dict_keys(['a', 'b', 'c'])\n"
     ]
    }
   ],
   "source": [
    "print(dictn.keys())"
   ]
  },
  {
   "cell_type": "code",
   "execution_count": 25,
   "id": "a9ef55ec-91c6-4518-8d4e-5ad56a2df73e",
   "metadata": {},
   "outputs": [
    {
     "name": "stdout",
     "output_type": "stream",
     "text": [
      "1\n"
     ]
    }
   ],
   "source": [
    "print(dictn.get(\"a\"))"
   ]
  },
  {
   "cell_type": "markdown",
   "id": "9d8fce30-2d65-491c-81bf-afb2c23a1d66",
   "metadata": {},
   "source": [
    "Ans 6 ) Yes, a nested dictionary can be created."
   ]
  },
  {
   "cell_type": "code",
   "execution_count": 26,
   "id": "2da94a16-23ff-494b-9774-fd0a92bbecfe",
   "metadata": {},
   "outputs": [],
   "source": [
    "dct = {\"a\":1,\"b\":{\"tmp\":12,\"abc\":14}}"
   ]
  },
  {
   "cell_type": "code",
   "execution_count": 28,
   "id": "420a1ad9-5aac-47f6-b89e-9900388ae35b",
   "metadata": {},
   "outputs": [
    {
     "name": "stdout",
     "output_type": "stream",
     "text": [
      "{'tmp': 12, 'abc': 14}\n"
     ]
    }
   ],
   "source": [
    "print(dct.get(\"b\"))"
   ]
  },
  {
   "cell_type": "code",
   "execution_count": 47,
   "id": "589c1215-99c1-4731-bad4-629efd612b65",
   "metadata": {},
   "outputs": [],
   "source": [
    "#Ans 7 )\n",
    "dict1 = {'language' : 'Python', 'course': 'Data Science Masters'}\n",
    "ls = ['Python', \"Machine Learning\", \"Deep Learning\"]\n",
    "x = dict1.setdefault(\"keyvalue\", ls)"
   ]
  },
  {
   "cell_type": "code",
   "execution_count": 48,
   "id": "5acb9b42-a5ad-4d61-893e-38ef26ee0681",
   "metadata": {},
   "outputs": [],
   "source": [
    "x =dict1.keys()"
   ]
  },
  {
   "cell_type": "markdown",
   "id": "2b95c244-3f32-4fbd-aadb-f9c32b236a0a",
   "metadata": {},
   "source": [
    "Ans 8) The three view objects in dictionary are : key, value and items."
   ]
  },
  {
   "cell_type": "code",
   "execution_count": 51,
   "id": "2ead2a41-bf29-4323-aa3f-fb6980f89b7f",
   "metadata": {},
   "outputs": [
    {
     "name": "stdout",
     "output_type": "stream",
     "text": [
      "dict_keys(['Sport', 'Teams'])\n"
     ]
    }
   ],
   "source": [
    "dict1 = {'Sport': 'Cricket' , 'Teams': ['India', 'Australia', 'England', 'South Africa', 'Sri Lanka', 'New Zealand']}\n",
    "print(dict1.keys())"
   ]
  },
  {
   "cell_type": "code",
   "execution_count": 52,
   "id": "aa858ff6-24b2-4df3-aded-ac123199915d",
   "metadata": {},
   "outputs": [
    {
     "name": "stdout",
     "output_type": "stream",
     "text": [
      "dict_items([('Sport', 'Cricket'), ('Teams', ['India', 'Australia', 'England', 'South Africa', 'Sri Lanka', 'New Zealand'])])\n"
     ]
    }
   ],
   "source": [
    "print(dict1.items())"
   ]
  },
  {
   "cell_type": "code",
   "execution_count": 53,
   "id": "436a5cd3-58e5-4b2f-a013-4b4670c7d970",
   "metadata": {},
   "outputs": [
    {
     "name": "stdout",
     "output_type": "stream",
     "text": [
      "dict_values(['Cricket', ['India', 'Australia', 'England', 'South Africa', 'Sri Lanka', 'New Zealand']])\n"
     ]
    }
   ],
   "source": [
    "print(dict1.values())"
   ]
  },
  {
   "cell_type": "code",
   "execution_count": null,
   "id": "66c7e665-8d00-4033-b7ae-f14f079dbe30",
   "metadata": {},
   "outputs": [],
   "source": []
  }
 ],
 "metadata": {
  "kernelspec": {
   "display_name": "Python 3 (ipykernel)",
   "language": "python",
   "name": "python3"
  },
  "language_info": {
   "codemirror_mode": {
    "name": "ipython",
    "version": 3
   },
   "file_extension": ".py",
   "mimetype": "text/x-python",
   "name": "python",
   "nbconvert_exporter": "python",
   "pygments_lexer": "ipython3",
   "version": "3.10.8"
  }
 },
 "nbformat": 4,
 "nbformat_minor": 5
}
