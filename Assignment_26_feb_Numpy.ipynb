{
 "cells": [
  {
   "cell_type": "code",
   "execution_count": 1,
   "id": "ee04edd3-3496-406c-8711-3e4a9458851c",
   "metadata": {},
   "outputs": [],
   "source": [
    "import numpy as np"
   ]
  },
  {
   "cell_type": "code",
   "execution_count": 3,
   "id": "459027eb-5b5d-49f8-bc05-cacddaf5294c",
   "metadata": {},
   "outputs": [],
   "source": [
    "list_ = [ '1', '2' , '3' , '4' , '5' ]"
   ]
  },
  {
   "cell_type": "code",
   "execution_count": 7,
   "id": "62b78338-4abf-4795-a535-6a4200067ea9",
   "metadata": {},
   "outputs": [],
   "source": [
    "array_list = np.array(object = list_)"
   ]
  },
  {
   "cell_type": "code",
   "execution_count": 6,
   "id": "cf5c95bd-e5ae-4379-8466-604208d1339a",
   "metadata": {},
   "outputs": [
    {
     "data": {
      "text/plain": [
       "list"
      ]
     },
     "execution_count": 6,
     "metadata": {},
     "output_type": "execute_result"
    }
   ],
   "source": [
    "#Ans 1)\n",
    "type(list_)"
   ]
  },
  {
   "cell_type": "code",
   "execution_count": 8,
   "id": "db9c2b3c-ad74-4b59-b267-c7619bf0a41b",
   "metadata": {},
   "outputs": [
    {
     "data": {
      "text/plain": [
       "numpy.ndarray"
      ]
     },
     "execution_count": 8,
     "metadata": {},
     "output_type": "execute_result"
    }
   ],
   "source": [
    "type(array_list)"
   ]
  },
  {
   "cell_type": "markdown",
   "id": "f3145783-fa55-490d-83a4-f51b9431a6c7",
   "metadata": {},
   "source": [
    "type(list_) is a list whereas type(array_list) is an array."
   ]
  },
  {
   "cell_type": "code",
   "execution_count": 9,
   "id": "70cf24fd-c203-4ecb-a768-f94db018995c",
   "metadata": {},
   "outputs": [
    {
     "name": "stdout",
     "output_type": "stream",
     "text": [
      "<class 'str'>\n",
      "<class 'str'>\n",
      "<class 'str'>\n",
      "<class 'str'>\n",
      "<class 'str'>\n"
     ]
    }
   ],
   "source": [
    "#Ans2)\n",
    "for i in list_:\n",
    "    print(type(i))"
   ]
  },
  {
   "cell_type": "code",
   "execution_count": 10,
   "id": "e6787c0c-0d19-4fc3-a9cf-8059dce72ec8",
   "metadata": {},
   "outputs": [
    {
     "data": {
      "text/plain": [
       "dtype('<U1')"
      ]
     },
     "execution_count": 10,
     "metadata": {},
     "output_type": "execute_result"
    }
   ],
   "source": [
    "array_list.dtype"
   ]
  },
  {
   "cell_type": "code",
   "execution_count": 14,
   "id": "8be9f1b9-e165-4c7d-af9e-377a8d906832",
   "metadata": {},
   "outputs": [
    {
     "name": "stdout",
     "output_type": "stream",
     "text": [
      "<class 'numpy.str_'>\n",
      "<class 'numpy.str_'>\n",
      "<class 'numpy.str_'>\n",
      "<class 'numpy.str_'>\n",
      "<class 'numpy.str_'>\n"
     ]
    }
   ],
   "source": [
    "for x in array_list:\n",
    "    print(type(x))"
   ]
  },
  {
   "cell_type": "code",
   "execution_count": 16,
   "id": "c9a582d5-ce0a-455a-bdfd-b5fedde7673c",
   "metadata": {},
   "outputs": [],
   "source": [
    "#Ans 3)\n",
    "arr_list = np.array(object = list_, dtype = int)"
   ]
  },
  {
   "cell_type": "code",
   "execution_count": 17,
   "id": "0e8b1b19-4ded-41cc-91a2-1da888b1c54d",
   "metadata": {},
   "outputs": [
    {
     "data": {
      "text/plain": [
       "array([1, 2, 3, 4, 5])"
      ]
     },
     "execution_count": 17,
     "metadata": {},
     "output_type": "execute_result"
    }
   ],
   "source": [
    "arr_list"
   ]
  },
  {
   "cell_type": "code",
   "execution_count": 18,
   "id": "28f7beb0-b634-442e-a7fc-847d41847927",
   "metadata": {},
   "outputs": [
    {
     "name": "stdout",
     "output_type": "stream",
     "text": [
      "<class 'numpy.int64'>\n",
      "<class 'numpy.int64'>\n",
      "<class 'numpy.int64'>\n",
      "<class 'numpy.int64'>\n",
      "<class 'numpy.int64'>\n"
     ]
    }
   ],
   "source": [
    "for x in arr_list:\n",
    "    print(type(x))"
   ]
  },
  {
   "cell_type": "markdown",
   "id": "ad9c93e2-203e-433e-9409-5b8f66288806",
   "metadata": {},
   "source": [
    "There is a difference in datatype of list_ and arr_list as we can see the datatype of list_ ais string whereas arr_list have int64 as datatype."
   ]
  },
  {
   "cell_type": "code",
   "execution_count": 26,
   "id": "4d74ff9d-eeb6-46c0-ae5c-39d8b1e676d8",
   "metadata": {},
   "outputs": [],
   "source": [
    "# Ans 4) \n",
    "num_list = [ [ 1 , 2 , 3 ] , [ 4 , 5 , 6 ] ]"
   ]
  },
  {
   "cell_type": "code",
   "execution_count": 27,
   "id": "08272f3b-1273-41d5-86a5-8e6a236aa24a",
   "metadata": {},
   "outputs": [
    {
     "data": {
      "text/plain": [
       "[[1, 2, 3], [4, 5, 6]]"
      ]
     },
     "execution_count": 27,
     "metadata": {},
     "output_type": "execute_result"
    }
   ],
   "source": [
    "num_list"
   ]
  },
  {
   "cell_type": "code",
   "execution_count": 28,
   "id": "6b342a69-bd9f-4314-a61d-d2d67b66ec7a",
   "metadata": {},
   "outputs": [],
   "source": [
    "num_array = np.array(object = num_list)"
   ]
  },
  {
   "cell_type": "code",
   "execution_count": 29,
   "id": "c47a474f-03bf-4c05-a2b8-7787a0b6d6a8",
   "metadata": {},
   "outputs": [
    {
     "data": {
      "text/plain": [
       "array([[1, 2, 3],\n",
       "       [4, 5, 6]])"
      ]
     },
     "execution_count": 29,
     "metadata": {},
     "output_type": "execute_result"
    }
   ],
   "source": [
    "num_array"
   ]
  },
  {
   "cell_type": "code",
   "execution_count": 30,
   "id": "91ed0894-30a1-46f0-8260-84921038bf5e",
   "metadata": {},
   "outputs": [
    {
     "data": {
      "text/plain": [
       "(2, 3)"
      ]
     },
     "execution_count": 30,
     "metadata": {},
     "output_type": "execute_result"
    }
   ],
   "source": [
    "num_array.shape"
   ]
  },
  {
   "cell_type": "code",
   "execution_count": 31,
   "id": "f588cbbc-4634-43c7-ad55-0bd32bb36f60",
   "metadata": {},
   "outputs": [
    {
     "data": {
      "text/plain": [
       "6"
      ]
     },
     "execution_count": 31,
     "metadata": {},
     "output_type": "execute_result"
    }
   ],
   "source": [
    "num_array.size"
   ]
  },
  {
   "cell_type": "code",
   "execution_count": 38,
   "id": "9322fdaf-ddcc-46e4-a1cf-a537dee7543d",
   "metadata": {},
   "outputs": [],
   "source": [
    "# Ans 5)\n",
    "new_array= np.zeros([3,3])"
   ]
  },
  {
   "cell_type": "code",
   "execution_count": 39,
   "id": "2a9df8cc-9b97-4663-a32b-17b846ff8cdf",
   "metadata": {},
   "outputs": [
    {
     "data": {
      "text/plain": [
       "array([[0., 0., 0.],\n",
       "       [0., 0., 0.],\n",
       "       [0., 0., 0.]])"
      ]
     },
     "execution_count": 39,
     "metadata": {},
     "output_type": "execute_result"
    }
   ],
   "source": [
    "new_array"
   ]
  },
  {
   "cell_type": "code",
   "execution_count": 40,
   "id": "bed13669-ddf2-4471-8a15-bb2c6c3e2c9f",
   "metadata": {},
   "outputs": [
    {
     "data": {
      "text/plain": [
       "(3, 3)"
      ]
     },
     "execution_count": 40,
     "metadata": {},
     "output_type": "execute_result"
    }
   ],
   "source": [
    "new_array.shape"
   ]
  },
  {
   "cell_type": "code",
   "execution_count": 41,
   "id": "0ab9b727-a9d6-4b67-b71e-c0bd80a0098a",
   "metadata": {},
   "outputs": [
    {
     "data": {
      "text/plain": [
       "9"
      ]
     },
     "execution_count": 41,
     "metadata": {},
     "output_type": "execute_result"
    }
   ],
   "source": [
    "new_array.size"
   ]
  },
  {
   "cell_type": "code",
   "execution_count": 43,
   "id": "bce68d07-02d4-4d8d-8959-19a9fd12e601",
   "metadata": {},
   "outputs": [],
   "source": [
    "#Ans 6)\n",
    "identity_matrix = np.eye(5,5)"
   ]
  },
  {
   "cell_type": "code",
   "execution_count": 44,
   "id": "69112d24-4984-443f-872d-a9acf0c6e167",
   "metadata": {},
   "outputs": [
    {
     "data": {
      "text/plain": [
       "array([[1., 0., 0., 0., 0.],\n",
       "       [0., 1., 0., 0., 0.],\n",
       "       [0., 0., 1., 0., 0.],\n",
       "       [0., 0., 0., 1., 0.],\n",
       "       [0., 0., 0., 0., 1.]])"
      ]
     },
     "execution_count": 44,
     "metadata": {},
     "output_type": "execute_result"
    }
   ],
   "source": [
    "identity_matrix"
   ]
  },
  {
   "cell_type": "code",
   "execution_count": null,
   "id": "acc53520-2e52-4977-94a7-0eab967e6e68",
   "metadata": {},
   "outputs": [],
   "source": []
  }
 ],
 "metadata": {
  "kernelspec": {
   "display_name": "Python 3 (ipykernel)",
   "language": "python",
   "name": "python3"
  },
  "language_info": {
   "codemirror_mode": {
    "name": "ipython",
    "version": 3
   },
   "file_extension": ".py",
   "mimetype": "text/x-python",
   "name": "python",
   "nbconvert_exporter": "python",
   "pygments_lexer": "ipython3",
   "version": "3.10.8"
  }
 },
 "nbformat": 4,
 "nbformat_minor": 5
}
