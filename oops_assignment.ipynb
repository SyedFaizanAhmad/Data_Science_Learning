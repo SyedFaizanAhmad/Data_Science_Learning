{
 "cells": [
  {
   "cell_type": "markdown",
   "id": "13d60e7d-4e88-4be5-9467-0632da00e4f4",
   "metadata": {},
   "source": [
    "Ans 1) A class is a user-defined blueprint or prototype from which objects are created. Classes provide a means of bundling data and functionality together.\n",
    "     Creating a new class creates a new type of object, allowing new instances of that type to be made. \n",
    "     Each class instance can have attributes attached to it for maintaining its state. Class instances can also have methods (defined by their class) for modifying their state."
   ]
  },
  {
   "cell_type": "code",
   "execution_count": 1,
   "id": "dded7fc9-0f7a-4d0f-83d9-91ba938e16ed",
   "metadata": {},
   "outputs": [],
   "source": [
    "class pwskills1:\n",
    "    def __init__(self,phone_number,email_id,student_id):\n",
    "        \n",
    "    #__init__ is a constructor\n",
    "    # constructor is used to take data\n",
    "        self.phone_number = phone_number\n",
    "        self.email_id   = email_id\n",
    "        self.student_id = student_id\n",
    "    def retrn_student_details(self):\n",
    "        return self.phone_number, self.email_id, self.student_id"
   ]
  },
  {
   "cell_type": "code",
   "execution_count": 2,
   "id": "6af56e96-bb2e-468d-bc45-2ae7b76ad76d",
   "metadata": {},
   "outputs": [],
   "source": [
    "faizan = pwskills1(9911367631,\"faizan.tcs.it@gmail.com\",101)"
   ]
  },
  {
   "cell_type": "code",
   "execution_count": 3,
   "id": "f246ac21-7b53-4666-9c01-af44d04faa54",
   "metadata": {},
   "outputs": [
    {
     "data": {
      "text/plain": [
       "9911367631"
      ]
     },
     "execution_count": 3,
     "metadata": {},
     "output_type": "execute_result"
    }
   ],
   "source": [
    "faizan.phone_number"
   ]
  },
  {
   "cell_type": "code",
   "execution_count": 4,
   "id": "9e23e5b8-f12f-4387-8bd6-5d3203bb5a74",
   "metadata": {},
   "outputs": [
    {
     "data": {
      "text/plain": [
       "'faizan.tcs.it@gmail.com'"
      ]
     },
     "execution_count": 4,
     "metadata": {},
     "output_type": "execute_result"
    }
   ],
   "source": [
    "faizan.email_id"
   ]
  },
  {
   "cell_type": "code",
   "execution_count": 5,
   "id": "f7615ef5-3c6a-4015-8327-bfbf1544e957",
   "metadata": {},
   "outputs": [],
   "source": [
    "abc = pwskills1(989876545,\"nayab@gmail.com\",102)"
   ]
  },
  {
   "cell_type": "code",
   "execution_count": 7,
   "id": "607e3609-523a-4bc6-87d9-c361353f3867",
   "metadata": {},
   "outputs": [
    {
     "data": {
      "text/plain": [
       "989876545"
      ]
     },
     "execution_count": 7,
     "metadata": {},
     "output_type": "execute_result"
    }
   ],
   "source": [
    "abc.phone_number"
   ]
  },
  {
   "cell_type": "code",
   "execution_count": 8,
   "id": "5014c04c-35a9-4058-8bef-6a005dc7a316",
   "metadata": {},
   "outputs": [
    {
     "data": {
      "text/plain": [
       "'nayab@gmail.com'"
      ]
     },
     "execution_count": 8,
     "metadata": {},
     "output_type": "execute_result"
    }
   ],
   "source": [
    "abc.email_id"
   ]
  },
  {
   "cell_type": "code",
   "execution_count": 9,
   "id": "7f41027f-7cb5-4a04-ac58-b4d0a15464bc",
   "metadata": {},
   "outputs": [
    {
     "data": {
      "text/plain": [
       "(9911367631, 'faizan.tcs.it@gmail.com', 101)"
      ]
     },
     "execution_count": 9,
     "metadata": {},
     "output_type": "execute_result"
    }
   ],
   "source": [
    "faizan.retrn_student_details()"
   ]
  },
  {
   "cell_type": "markdown",
   "id": "0329e5ce-0959-426b-84c0-8483ca4b40f7",
   "metadata": {},
   "source": [
    "#Note here faizan is an object of the class that holds value wrt faizan"
   ]
  },
  {
   "cell_type": "markdown",
   "id": "3a21dd4d-11d7-4cbc-9197-b4b5f42200f9",
   "metadata": {},
   "source": [
    "Ans2) The four pillars f OOPS are :\n",
    "    1. Inheritance\n",
    "    2. Polymorphism\n",
    "    3. Encapsulation\n",
    "    4. Abstraction"
   ]
  },
  {
   "cell_type": "markdown",
   "id": "64a3f14a-e1f9-48f7-bbf4-1ca0e998b730",
   "metadata": {},
   "source": [
    "Ans 3) The __init__() is a constructor to the class. __init__ is a reserved method in Python that behaves like any other member function of the class,\n",
    "except the statements written under its definition are used to initialize the data members of a class in Python, i.e. it basically contains assignment\n",
    "statements. This method is automatically called at the time of class instantiation or object creation. \n",
    "In case of inheritance, the sub class inherits the __init__ method of the base class along with the other accessible class members. Hence, the object of \n",
    "the base class automatically calls the python __init__ constructor of the base class at the time of its creation since it is called by the sub class __init__ constructor. \n",
    "The python __init__ method is declared within a class and is used to initialize the attributes of an object as soon as the object is formed. While giving the definition \n",
    "for an __init__(self) method, a default parameter, named ‘self’ is always passed in its argument. This self represents the object of the class itself. \n",
    "Like in any other method of a class, in case of __init__ also ‘self’ is used as a dummy object variable for assigning values to the data members of an object. "
   ]
  },
  {
   "cell_type": "code",
   "execution_count": 10,
   "id": "1245dc84-b39b-43a5-97c4-b5308c7a57b3",
   "metadata": {},
   "outputs": [],
   "source": [
    "class pwskills2:\n",
    "    def __init__(faiz,phone_number,email_id,student_id):\n",
    "        \n",
    "    #__init__ is a constructor\n",
    "    # faiz is a pointer here. Self is not a keyword and can be changed\n",
    "        faiz.phone_number1 = phone_number\n",
    "        faiz.email_id1   = email_id\n",
    "        faiz.student_id1 = student_id\n",
    "    def retrn_student_details(faiz):\n",
    "        return faiz.phone_number1, faiz.email_id1, faiz.student_id1  "
   ]
  },
  {
   "cell_type": "code",
   "execution_count": 11,
   "id": "7123239f-331b-4f7f-9689-32b1947eadaf",
   "metadata": {},
   "outputs": [],
   "source": [
    "faizan = pwskills2(9911456,\"Faizan\",1030) "
   ]
  },
  {
   "cell_type": "code",
   "execution_count": 13,
   "id": "689e1d33-e6cf-419b-8ff9-f796e9f2956a",
   "metadata": {},
   "outputs": [
    {
     "data": {
      "text/plain": [
       "9911456"
      ]
     },
     "execution_count": 13,
     "metadata": {},
     "output_type": "execute_result"
    }
   ],
   "source": [
    "faizan.phone_number1"
   ]
  },
  {
   "cell_type": "code",
   "execution_count": 14,
   "id": "b450784d-ec71-4ef0-a700-b8787a6d366b",
   "metadata": {},
   "outputs": [
    {
     "data": {
      "text/plain": [
       "'Faizan'"
      ]
     },
     "execution_count": 14,
     "metadata": {},
     "output_type": "execute_result"
    }
   ],
   "source": [
    "faizan.email_id1"
   ]
  },
  {
   "cell_type": "markdown",
   "id": "95c45eb9-b585-4776-89a4-6eb35ba7760e",
   "metadata": {},
   "source": [
    "Ans 3) Like in any other method of a class, in case of __init__ also ‘self’ is used as a dummy object variable for assigning values to the data members of an object. \n",
    "      It acts like a pointer and can be replaced with any non-key word as shown in above example."
   ]
  },
  {
   "cell_type": "markdown",
   "id": "c88e8640-a009-48a6-b91c-bb576db7ac15",
   "metadata": {},
   "source": [
    "Ans 4 ) Inheritance allows us to define a class that inherits all the methods and properties from another class.\n",
    "        Parent class is the class being inherited from, also called base class.\n",
    "       Child class is the class that inherits from another class, also called derived class"
   ]
  },
  {
   "cell_type": "code",
   "execution_count": 18,
   "id": "72cf7ed9-c07b-402e-bdf1-bc8eeb7cbc85",
   "metadata": {},
   "outputs": [
    {
     "name": "stdout",
     "output_type": "stream",
     "text": [
      "John Doe\n"
     ]
    }
   ],
   "source": [
    "#Creating base class\n",
    "class Person:\n",
    "  def __init__(self, fname, lname):\n",
    "    self.firstname = fname\n",
    "    self.lastname = lname\n",
    "\n",
    "  def printname(self):\n",
    "    print(self.firstname, self.lastname)\n",
    "#Use the Person class to create an object, and then execute the printname method:\n",
    "x = Person(\"John\", \"Doe\")\n",
    "x.printname()"
   ]
  },
  {
   "cell_type": "code",
   "execution_count": 19,
   "id": "04c7626a-de13-4bee-b024-c5b8bbbb819e",
   "metadata": {},
   "outputs": [],
   "source": [
    "#Create a class named Student, which will inherit the properties and methods from the Person class:\n",
    "class Student(Person):\n",
    "  pass"
   ]
  },
  {
   "cell_type": "markdown",
   "id": "597c214c-e672-4056-a1bc-08545c13a5bd",
   "metadata": {},
   "source": [
    "Note: Use the pass keyword when you do not want to add any other properties or methods to the class.\n",
    "Now the Student class has the same properties and methods as the Person class"
   ]
  },
  {
   "cell_type": "code",
   "execution_count": 20,
   "id": "89006d7f-cddc-4b59-b9d4-91d6e51e72c8",
   "metadata": {},
   "outputs": [
    {
     "name": "stdout",
     "output_type": "stream",
     "text": [
      "Mike Olsen\n"
     ]
    }
   ],
   "source": [
    "x = Student(\"Mike\", \"Olsen\")\n",
    "x.printname()"
   ]
  },
  {
   "cell_type": "markdown",
   "id": "688fd9b2-e315-494e-8856-a0fdff436fd8",
   "metadata": {},
   "source": [
    "1. Single Inheritance\n",
    "Single inheritance enables a derived class to inherit properties from a single parent class, thus enabling code reusability and the addition of new features to existing code."
   ]
  },
  {
   "cell_type": "code",
   "execution_count": 23,
   "id": "c1f4c442-d496-471e-9ec5-5bba613f4a88",
   "metadata": {},
   "outputs": [
    {
     "name": "stdout",
     "output_type": "stream",
     "text": [
      "This function is in parent class.\n",
      "This function is in child class.\n"
     ]
    }
   ],
   "source": [
    "# Python program to demonstrate\n",
    "# single inheritance \n",
    "# Base class\n",
    "class Parent:\n",
    "    def func1(self):\n",
    "        print(\"This function is in parent class.\")\n",
    " \n",
    "# Derived class \n",
    "class Child(Parent):\n",
    "    def func2(self):\n",
    "        print(\"This function is in child class.\")\n",
    " \n",
    " \n",
    "# Driver's code\n",
    "object = Child()\n",
    "object.func1()\n",
    "object.func2()"
   ]
  },
  {
   "cell_type": "markdown",
   "id": "328d3978-9195-4593-be21-82aa21acde5a",
   "metadata": {},
   "source": [
    "2 Multiple Inheritance: \n",
    "When a class can be derived from more than one base class this type of inheritance is called multiple inheritances. \n",
    "In multiple inheritances, all the features of the base classes are inherited into the derived class. "
   ]
  },
  {
   "cell_type": "code",
   "execution_count": 25,
   "id": "a9dc6d4b-e767-4d69-a396-47016ff92471",
   "metadata": {},
   "outputs": [
    {
     "name": "stdout",
     "output_type": "stream",
     "text": [
      "Father : RAM\n",
      "Mother : SITA\n"
     ]
    }
   ],
   "source": [
    "# Python program to demonstrate\n",
    "# multiple inheritance\n",
    " \n",
    "# Base class1\n",
    "class Mother:\n",
    "    mothername = \"\"\n",
    " \n",
    "    def mother(self):\n",
    "        print(self.mothername)\n",
    " \n",
    "# Base class2 \n",
    "class Father:\n",
    "    fathername = \"\"\n",
    " \n",
    "    def father(self):\n",
    "        print(self.fathername)\n",
    " \n",
    "# Derived class\n",
    " \n",
    "class Son(Mother, Father):\n",
    "    def parents(self):\n",
    "        print(\"Father :\", self.fathername)\n",
    "        print(\"Mother :\", self.mothername)\n",
    " \n",
    " \n",
    "# Driver's code\n",
    "s1 = Son()\n",
    "s1.fathername = \"RAM\"\n",
    "s1.mothername = \"SITA\"\n",
    "s1.parents()"
   ]
  },
  {
   "cell_type": "markdown",
   "id": "035ad0b9-bee9-44ca-8b14-37b8575b8db2",
   "metadata": {},
   "source": [
    "3) Multilevel Inheritance :\n",
    "In multilevel inheritance, features of the base class and the derived class are further inherited into the new derived class. \n",
    "This is similar to a relationship representing a child and a grandfather. "
   ]
  },
  {
   "cell_type": "code",
   "execution_count": 26,
   "id": "46f6b620-0091-4acd-b6fa-f0a625cd2416",
   "metadata": {},
   "outputs": [
    {
     "name": "stdout",
     "output_type": "stream",
     "text": [
      "Lal mani\n",
      "Grandfather name : Lal mani\n",
      "Father name : Rampal\n",
      "Son name : Prince\n"
     ]
    }
   ],
   "source": [
    "# Python program to demonstrate\n",
    "# multilevel inheritance\n",
    " \n",
    "# Base class \n",
    " \n",
    "class Grandfather:\n",
    " \n",
    "    def __init__(self, grandfathername):\n",
    "        self.grandfathername = grandfathername\n",
    " \n",
    "# Intermediate class \n",
    " \n",
    "class Father(Grandfather):\n",
    "    def __init__(self, fathername, grandfathername):\n",
    "        self.fathername = fathername\n",
    " \n",
    "        # invoking constructor of Grandfather class\n",
    "        Grandfather.__init__(self, grandfathername)\n",
    " \n",
    "# Derived class \n",
    " \n",
    "class Son(Father):\n",
    "    def __init__(self, sonname, fathername, grandfathername):\n",
    "        self.sonname = sonname\n",
    " \n",
    "        # invoking constructor of Father class\n",
    "        Father.__init__(self, fathername, grandfathername)\n",
    " \n",
    "    def print_name(self):\n",
    "        print('Grandfather name :', self.grandfathername)\n",
    "        print(\"Father name :\", self.fathername)\n",
    "        print(\"Son name :\", self.sonname)\n",
    " \n",
    " \n",
    "#  Driver code\n",
    "s1 = Son('Prince', 'Rampal', 'Lal mani')\n",
    "print(s1.grandfathername)\n",
    "s1.print_name()"
   ]
  },
  {
   "cell_type": "markdown",
   "id": "32b57f8c-49b3-487c-9a0d-e8986fde2dc0",
   "metadata": {},
   "source": [
    "4) Hierarchical Inheritance: \n",
    "When more than one derived class are created from a single base this type of inheritance is called hierarchical inheritance. In this program, we have a parent (base) class and two child (derived) classes."
   ]
  },
  {
   "cell_type": "code",
   "execution_count": 29,
   "id": "c503bc24-4b74-4f99-907f-9beecac2a4c0",
   "metadata": {},
   "outputs": [
    {
     "name": "stdout",
     "output_type": "stream",
     "text": [
      "This function is in parent class.\n",
      "This function is in child 1.\n",
      "This function is in parent class.\n",
      "This function is in child 2.\n"
     ]
    }
   ],
   "source": [
    "# Python program to demonstrate\n",
    "# Hierarchical inheritance\n",
    " \n",
    "# Base class\n",
    "class Parent:\n",
    "    def func1(self):\n",
    "        print(\"This function is in parent class.\")\n",
    " \n",
    "# Derived class1\n",
    " \n",
    "class Child1(Parent):\n",
    "    def func2(self):\n",
    "        print(\"This function is in child 1.\")\n",
    " \n",
    "# Derivied class2 \n",
    " \n",
    "class Child2(Parent):\n",
    "    def func3(self):\n",
    "        print(\"This function is in child 2.\") \n",
    " \n",
    "# Driver's code\n",
    "object1 = Child1()\n",
    "object2 = Child2()\n",
    "object1.func1()\n",
    "object1.func2()\n",
    "object2.func1()\n",
    "object2.func3()"
   ]
  },
  {
   "cell_type": "code",
   "execution_count": null,
   "id": "0246e48e-d9cc-4188-b5e2-24e9fab7a94a",
   "metadata": {},
   "outputs": [],
   "source": []
  }
 ],
 "metadata": {
  "kernelspec": {
   "display_name": "Python 3 (ipykernel)",
   "language": "python",
   "name": "python3"
  },
  "language_info": {
   "codemirror_mode": {
    "name": "ipython",
    "version": 3
   },
   "file_extension": ".py",
   "mimetype": "text/x-python",
   "name": "python",
   "nbconvert_exporter": "python",
   "pygments_lexer": "ipython3",
   "version": "3.10.8"
  }
 },
 "nbformat": 4,
 "nbformat_minor": 5
}
