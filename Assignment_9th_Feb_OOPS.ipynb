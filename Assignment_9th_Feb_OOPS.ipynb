{
 "cells": [
  {
   "cell_type": "code",
   "execution_count": 3,
   "id": "35725fdd-332e-4901-9270-1360491a359e",
   "metadata": {},
   "outputs": [],
   "source": [
    "class vehicle:\n",
    "    def __init__(self,name_of_vehicle,max_speed,average_of_vehicle):\n",
    "        self.veh_name = name_of_vehicle\n",
    "        self.max_spd   = max_speed\n",
    "        self.veh_avg = average_of_vehicle"
   ]
  },
  {
   "cell_type": "code",
   "execution_count": 64,
   "id": "d7a9e0d7-3377-41a7-98c1-a0657dacb9ea",
   "metadata": {},
   "outputs": [],
   "source": [
    "class car(vehicle):\n",
    "    def seating_capacity(self,capacity): \n",
    "        return self.veh_name, self.max_spd"
   ]
  },
  {
   "cell_type": "code",
   "execution_count": 67,
   "id": "671e2296-3e66-4138-8b23-4ce7889c4d5f",
   "metadata": {},
   "outputs": [],
   "source": [
    "car_obj = car(\"Passenger Car\",200,17)"
   ]
  },
  {
   "cell_type": "code",
   "execution_count": 68,
   "id": "31e8bd79-f7e1-41d3-aa8b-388c3e5a49bd",
   "metadata": {},
   "outputs": [
    {
     "data": {
      "text/plain": [
       "('Passenger Car', 200)"
      ]
     },
     "execution_count": 68,
     "metadata": {},
     "output_type": "execute_result"
    }
   ],
   "source": [
    "car_obj.seating_capacity(5)"
   ]
  },
  {
   "cell_type": "markdown",
   "id": "adf6a300-f7fb-4b6d-975a-89dcf76a11a8",
   "metadata": {},
   "source": [
    "Ans 3) Multiple inheritance is the inheritance where a class inherits from multiple classes. Eg: class c inheriting from class a as well as from class b."
   ]
  },
  {
   "cell_type": "code",
   "execution_count": 25,
   "id": "9e8c3974-ad26-4361-8684-b94fefeea432",
   "metadata": {},
   "outputs": [],
   "source": [
    "#Example of multlevel inheritance\n",
    "class classa:\n",
    "    def __init__(self,a,b):\n",
    "        self.value_a = a\n",
    "        self.value_b = b\n",
    "    def sumab(self):\n",
    "        print(self.value_a+self.value_b)  "
   ]
  },
  {
   "cell_type": "code",
   "execution_count": 26,
   "id": "8b017784-ab78-4869-bb20-1ec3ae6abf2c",
   "metadata": {},
   "outputs": [],
   "source": [
    "class classb:\n",
    "    def __init__(self,a,b):\n",
    "        self.value_a = a\n",
    "        self.value_b = b\n",
    "    def mulab(self):\n",
    "        print(self.value_a*self.value_b) "
   ]
  },
  {
   "cell_type": "code",
   "execution_count": 27,
   "id": "1b399631-8405-4030-a851-3baaa3d3f11e",
   "metadata": {},
   "outputs": [],
   "source": [
    "class inherit_a_b(classa,classb):\n",
    "    pass "
   ]
  },
  {
   "cell_type": "code",
   "execution_count": 31,
   "id": "86e9f099-9b0b-400e-9c56-85a642b68c9f",
   "metadata": {},
   "outputs": [],
   "source": [
    "classinherit_a_b_obj = inherit_a_b(9,5)"
   ]
  },
  {
   "cell_type": "code",
   "execution_count": 32,
   "id": "9ced0dd8-bf8c-4972-8b32-baeb4b33f9ba",
   "metadata": {},
   "outputs": [
    {
     "name": "stdout",
     "output_type": "stream",
     "text": [
      "14\n"
     ]
    }
   ],
   "source": [
    "classinherit_a_b_obj.sumab()"
   ]
  },
  {
   "cell_type": "code",
   "execution_count": 33,
   "id": "981af9e8-d986-4f9f-8ca9-1f3fe1b87b6a",
   "metadata": {},
   "outputs": [
    {
     "name": "stdout",
     "output_type": "stream",
     "text": [
      "45\n"
     ]
    }
   ],
   "source": [
    "classinherit_a_b_obj.mulab()"
   ]
  },
  {
   "cell_type": "code",
   "execution_count": 34,
   "id": "2fc8fe81-c274-4b60-a2f4-49df12864fb1",
   "metadata": {},
   "outputs": [],
   "source": [
    "classinherit_a_b_obj = inherit_a_b(\"Hello \",\"Faizan\")"
   ]
  },
  {
   "cell_type": "code",
   "execution_count": 35,
   "id": "e85765eb-8f0d-4dda-932d-94b5048c517f",
   "metadata": {},
   "outputs": [
    {
     "name": "stdout",
     "output_type": "stream",
     "text": [
      "Hello Faizan\n"
     ]
    }
   ],
   "source": [
    "classinherit_a_b_obj.sumab()"
   ]
  },
  {
   "cell_type": "markdown",
   "id": "49f34e5f-7cec-403a-be93-e2e4cab2dc08",
   "metadata": {},
   "source": [
    "Ans 3 )\n",
    "Getter: A method that allows you to access an attribute in a given class\n",
    "Setter: A method that allows you to set or mutate the value of an attribute in a class\n",
    "In OOP, the getter and setter pattern suggests that public attributes should be used only when you’re sure that no one will ever need to attach behavior to them. \n",
    "If an attribute is likely to change its internal implementation, then you should use getter and setter methods.\n",
    "\n",
    "Implementing the getter and setter pattern requires:\n",
    "Making your attributes non-public\n",
    "Writing getter and setter methods for each attribute\n",
    "For example, say that you need to write a Label class with text and font attributes. If you were to use getter and setter methods to manage these attributes, \n",
    "then you’d write the class like in the following code:"
   ]
  },
  {
   "cell_type": "code",
   "execution_count": 37,
   "id": "047daca3-ddac-40d3-9795-371e1a8ee18c",
   "metadata": {},
   "outputs": [],
   "source": [
    "class getter_setter:\n",
    "    def __init__(self, text, font):\n",
    "        self._text = text\n",
    "        self._font = font\n",
    "\n",
    "    def get_text(self):\n",
    "        return self._text\n",
    "\n",
    "    def set_text(self, value):\n",
    "        self._text = value\n",
    "\n",
    "    def get_font(self):\n",
    "        return self._font\n",
    "\n",
    "    def set_font(self, value):\n",
    "        self._font = value"
   ]
  },
  {
   "cell_type": "markdown",
   "id": "2f18cd57-f0b2-4229-9f16-d24a92f72dbc",
   "metadata": {},
   "source": [
    "In this example, the constructor of Label takes two arguments, text and font. These arguments are stored in the ._text and ._font non-public instance attributes, respectively.\n",
    "Then you define getter and setter methods for both attributes. Typically, getter methods return the target attribute’s value, while setter methods take a new value and assign \n",
    "it to the underlying attribute."
   ]
  },
  {
   "cell_type": "code",
   "execution_count": 39,
   "id": "9eb7cef5-ddde-467f-8c8a-6f1ce9f23aae",
   "metadata": {},
   "outputs": [],
   "source": [
    "label = getter_setter(\"This is data science class\", \"Arial\")"
   ]
  },
  {
   "cell_type": "code",
   "execution_count": 40,
   "id": "66f16d27-3f38-4177-a0a3-1681c0ac7997",
   "metadata": {},
   "outputs": [
    {
     "data": {
      "text/plain": [
       "'This is data science class'"
      ]
     },
     "execution_count": 40,
     "metadata": {},
     "output_type": "execute_result"
    }
   ],
   "source": [
    "label.get_text()"
   ]
  },
  {
   "cell_type": "code",
   "execution_count": 41,
   "id": "e05ef814-08b0-4f85-bf8e-0c82e177e40a",
   "metadata": {},
   "outputs": [],
   "source": [
    "label.set_text(\"This is AI class\")"
   ]
  },
  {
   "cell_type": "code",
   "execution_count": 42,
   "id": "f07a5520-37f8-48b5-8e43-e401291242ff",
   "metadata": {},
   "outputs": [
    {
     "data": {
      "text/plain": [
       "'This is AI class'"
      ]
     },
     "execution_count": 42,
     "metadata": {},
     "output_type": "execute_result"
    }
   ],
   "source": [
    "label.get_text()"
   ]
  },
  {
   "cell_type": "markdown",
   "id": "d19a5be1-d94f-4581-b1be-f81c796ffd50",
   "metadata": {},
   "source": [
    "Ans 4) Method overloading is a feature in oops wherein we can define two or more methods with the same name but differing in the number of parameters or type of parameters passed."
   ]
  },
  {
   "cell_type": "code",
   "execution_count": 60,
   "id": "a4c850ec-4970-40df-8364-8e37a6766227",
   "metadata": {},
   "outputs": [],
   "source": [
    "#Eg:     \n",
    "def method_overload(a,b,c):\n",
    "    p = a+b+c\n",
    "    print(p)"
   ]
  },
  {
   "cell_type": "code",
   "execution_count": 51,
   "id": "c676c809-1e20-4469-aa8f-9709c34b9a4b",
   "metadata": {},
   "outputs": [],
   "source": [
    "def method_overload(a):\n",
    "    if a.isalnum():\n",
    "        for rec in a:\n",
    "            print(rec)"
   ]
  },
  {
   "cell_type": "code",
   "execution_count": 56,
   "id": "586d483e-9375-4d8d-9cb9-c5367498754b",
   "metadata": {},
   "outputs": [
    {
     "name": "stdout",
     "output_type": "stream",
     "text": [
      "7\n",
      "6\n"
     ]
    }
   ],
   "source": [
    "g= method_overload(\"76\")"
   ]
  },
  {
   "cell_type": "code",
   "execution_count": 61,
   "id": "2c8e5901-db88-4cd8-9c5e-9daf2329c215",
   "metadata": {},
   "outputs": [
    {
     "name": "stdout",
     "output_type": "stream",
     "text": [
      "766545\n"
     ]
    }
   ],
   "source": [
    "g= method_overload(\"76\",\"65\",\"45\")"
   ]
  },
  {
   "cell_type": "code",
   "execution_count": null,
   "id": "2ebe13eb-4cd1-4116-a726-3acd64216769",
   "metadata": {},
   "outputs": [],
   "source": []
  }
 ],
 "metadata": {
  "kernelspec": {
   "display_name": "Python 3 (ipykernel)",
   "language": "python",
   "name": "python3"
  },
  "language_info": {
   "codemirror_mode": {
    "name": "ipython",
    "version": 3
   },
   "file_extension": ".py",
   "mimetype": "text/x-python",
   "name": "python",
   "nbconvert_exporter": "python",
   "pygments_lexer": "ipython3",
   "version": "3.10.8"
  }
 },
 "nbformat": 4,
 "nbformat_minor": 5
}
