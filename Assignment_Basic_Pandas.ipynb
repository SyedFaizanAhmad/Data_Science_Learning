{
 "cells": [
  {
   "cell_type": "code",
   "execution_count": 21,
   "id": "711e7836-e51f-4646-bd54-27fceafb8a2c",
   "metadata": {},
   "outputs": [],
   "source": [
    "#Ans 1) \n",
    "import pandas as pd"
   ]
  },
  {
   "cell_type": "code",
   "execution_count": 22,
   "id": "b2ae3d08-7b94-4bf5-a8ac-fb5a3ce26467",
   "metadata": {},
   "outputs": [],
   "source": [
    "items = [4,8,15,16,23,42]\n",
    "s = pd.Series(items)"
   ]
  },
  {
   "cell_type": "code",
   "execution_count": 23,
   "id": "42e50da0-2483-4cea-ae75-bdb8636f7179",
   "metadata": {},
   "outputs": [
    {
     "name": "stdout",
     "output_type": "stream",
     "text": [
      "0     4\n",
      "1     8\n",
      "2    15\n",
      "3    16\n",
      "4    23\n",
      "5    42\n",
      "dtype: int64\n"
     ]
    }
   ],
   "source": [
    "print(s)"
   ]
  },
  {
   "cell_type": "code",
   "execution_count": 24,
   "id": "054bf43d-2341-4f51-8c29-63dabba7a247",
   "metadata": {},
   "outputs": [],
   "source": [
    "# Ans 2 )"
   ]
  },
  {
   "cell_type": "code",
   "execution_count": 25,
   "id": "831f37ea-9a50-4117-bcee-19d9be8b48b2",
   "metadata": {},
   "outputs": [],
   "source": [
    "items = ['Rahul''Faizan','Krish',4,3,5,6,8,10]\n",
    "s = pd.Series(items)"
   ]
  },
  {
   "cell_type": "code",
   "execution_count": 26,
   "id": "94bf351e-3a31-4916-8d3c-1aae6c5b90d4",
   "metadata": {},
   "outputs": [
    {
     "data": {
      "text/plain": [
       "0    RahulFaizan\n",
       "1          Krish\n",
       "2              4\n",
       "3              3\n",
       "4              5\n",
       "5              6\n",
       "6              8\n",
       "7             10\n",
       "dtype: object"
      ]
     },
     "execution_count": 26,
     "metadata": {},
     "output_type": "execute_result"
    }
   ],
   "source": [
    "s"
   ]
  },
  {
   "cell_type": "code",
   "execution_count": 27,
   "id": "f2a664ad-7dab-4daf-8449-518702d9fd6b",
   "metadata": {},
   "outputs": [],
   "source": [
    "#Ans 3 )"
   ]
  },
  {
   "cell_type": "code",
   "execution_count": 28,
   "id": "4d911822-e601-4f29-b2bc-78c1d6afdd0e",
   "metadata": {},
   "outputs": [
    {
     "name": "stdout",
     "output_type": "stream",
     "text": [
      "     Name  Age   Gendr\n",
      "0   Alice   25  Female\n",
      "1     Bob   30    Male\n",
      "2  Claire   27  Female\n"
     ]
    }
   ],
   "source": [
    "data = {'Name': ['Alice', 'Bob', 'Claire'],\n",
    "\n",
    "        'Age': [25, 30, 27],\n",
    "\n",
    "        'Gendr': ['Female', 'Male', 'Female']}\n",
    "\n",
    "df = pd.DataFrame(data)\n",
    "print(df)"
   ]
  },
  {
   "cell_type": "code",
   "execution_count": 29,
   "id": "e832bba3-eb5f-4606-a127-368511b59580",
   "metadata": {},
   "outputs": [],
   "source": [
    "# Ans 4 )\n",
    "A Pandas DataFrame is a 2 dimensional data structure, like a 2 dimensional array, or a table with rows and columns.Pandas use the loc attribute to return one or more specified row(s)"
   ]
  },
  {
   "cell_type": "code",
   "execution_count": 32,
   "id": "ab95109e-c79d-4276-a812-4bc423ef8674",
   "metadata": {},
   "outputs": [
    {
     "name": "stdout",
     "output_type": "stream",
     "text": [
      "   calories  duration\n",
      "0       420        50\n",
      "1       380        40\n",
      "2       390        45\n"
     ]
    }
   ],
   "source": [
    "data = {\n",
    "  \"calories\": [420, 380, 390],\n",
    "  \"duration\": [50, 40, 45]\n",
    "}\n",
    "#load data into a DataFrame object:\n",
    "df = pd.DataFrame(data)\n",
    "type(df)\n",
    "print(df)"
   ]
  },
  {
   "cell_type": "markdown",
   "id": "36cf6f79-7bf8-4a26-9e2a-3f5b3007c56e",
   "metadata": {},
   "source": [
    "Pandas series are One-dimensional whereas dataframe is two dimentional.\n",
    "Series is Homogenous meaning series elements must be of the same data type whereas dataframe is Heterogenous meaning DataFrame elements can have different data types."
   ]
  },
  {
   "cell_type": "code",
   "execution_count": 33,
   "id": "bb883dbe-56a2-499e-8164-7137aa24ec04",
   "metadata": {},
   "outputs": [
    {
     "name": "stdout",
     "output_type": "stream",
     "text": [
      "0    Jitender\n",
      "1     Purnima\n",
      "2       Arpit\n",
      "3       Jyoti\n",
      "dtype: object\n"
     ]
    }
   ],
   "source": [
    "#Creating a list\n",
    "author = ['Jitender', 'Purnima', 'Arpit', 'Jyoti']\n",
    "#Creating a Series by passing list variable to Series() function\n",
    "auth_series = pd.Series(author)\n",
    "#Printing Series\n",
    "print(auth_series)"
   ]
  },
  {
   "cell_type": "code",
   "execution_count": 34,
   "id": "7a1613b9-0716-499a-bc88-b41a547d249d",
   "metadata": {},
   "outputs": [
    {
     "name": "stdout",
     "output_type": "stream",
     "text": [
      "     Author  Article\n",
      "0  Jitender      210\n",
      "1   Purnima      211\n",
      "2     Arpit      114\n",
      "3     Jyoti      178\n"
     ]
    }
   ],
   "source": [
    "#Creating two lists\n",
    "author = ['Jitender', 'Purnima', 'Arpit', 'Jyoti']\n",
    "article = [210, 211, 114, 178]\n",
    "#Creating two Series by passing lists\n",
    "auth_series = pd.Series(author)\n",
    "article_series = pd.Series(article)\n",
    "#Creating a dictionary by passing Series objects as values\n",
    "frame = { 'Author': auth_series, 'Article': article_series }\n",
    "#Creating DataFrame by passing Dictionary\n",
    "result = pd.DataFrame(frame)\n",
    "#Printing elements of Dataframe\n",
    "print(result)"
   ]
  },
  {
   "cell_type": "markdown",
   "id": "bebd6576-14e9-4f6b-b4f6-874aaac76e9e",
   "metadata": {},
   "source": [
    "Ans 5 ) Some common functions  used to manipulate data in a Pandas DataFrame are :\n",
    "    a) Remove Column from pandas DataFrame : This is required when we need to have to select required columns only.\n",
    "    b)  Add New Column to pandas DataFrame : Can be used when we need a new columns. May a column on the basis of existing columns such as hash_key.\n",
    "    c) Merge Two pandas DataFrames\n",
    "    d) Rename Columns of pandas DataFrame : Sometime we want to rename a column just to give meaningful name."
   ]
  },
  {
   "cell_type": "markdown",
   "id": "be0fe0bd-54cd-4d8c-be7b-875f1a1e73e6",
   "metadata": {},
   "source": [
    "Ans 6) Series, DataFrame and Panel are all mutable in nature."
   ]
  },
  {
   "cell_type": "code",
   "execution_count": 36,
   "id": "feda59d7-0311-4f4f-84e2-b61f2feebfbc",
   "metadata": {},
   "outputs": [
    {
     "name": "stdout",
     "output_type": "stream",
     "text": [
      "     Author  Article\n",
      "0  Jitender      210\n",
      "1   Purnima      211\n",
      "2     Arpit      114\n",
      "3     Jyoti      178\n"
     ]
    }
   ],
   "source": [
    "#Ans 7 ) #Creating two lists\n",
    "author = ['Jitender', 'Purnima', 'Arpit', 'Jyoti']\n",
    "article = [210, 211, 114, 178]\n",
    "#Creating two Series by passing lists\n",
    "auth_series = pd.Series(author)\n",
    "article_series = pd.Series(article)\n",
    "#Creating a dictionary by passing Series objects as values\n",
    "frame = { 'Author': auth_series, 'Article': article_series }\n",
    "#Creating DataFrame by passing Dictionary\n",
    "result = pd.DataFrame(frame)\n",
    "#Printing elements of Dataframe\n",
    "print(result)"
   ]
  },
  {
   "cell_type": "markdown",
   "id": "17cc5498-9742-49bd-a6ec-176bb87289ff",
   "metadata": {},
   "source": [
    "xplanation : There aretwo lists author and article. We create series auth_series and article_series from these lists. Since the dataframe is two dimentional,\n",
    "we created a dictionary and passed it to dataframe to create a pandas dataframe."
   ]
  }
 ],
 "metadata": {
  "kernelspec": {
   "display_name": "Python 3 (ipykernel)",
   "language": "python",
   "name": "python3"
  },
  "language_info": {
   "codemirror_mode": {
    "name": "ipython",
    "version": 3
   },
   "file_extension": ".py",
   "mimetype": "text/x-python",
   "name": "python",
   "nbconvert_exporter": "python",
   "pygments_lexer": "ipython3",
   "version": "3.10.8"
  }
 },
 "nbformat": 4,
 "nbformat_minor": 5
}
