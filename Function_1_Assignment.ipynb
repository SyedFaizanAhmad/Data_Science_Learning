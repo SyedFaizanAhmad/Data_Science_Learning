{
 "cells": [
  {
   "cell_type": "code",
   "execution_count": 39,
   "id": "8f1d858f-d4cd-4c4f-87c2-e3ec0426f3c8",
   "metadata": {},
   "outputs": [
    {
     "name": "stdout",
     "output_type": "stream",
     "text": [
      "[('Virat Kohli', 24936), ('Jack Kallis', 25534), ('Ricky Ponting', 27483), ('Sachin Tendulkar', 34357)]\n"
     ]
    }
   ],
   "source": [
    "# Ans 1)program to sort the given list of tuples based on integer value using a lambda function.\n",
    "lst1 = [('Sachin Tendulkar', 34357), ('Ricky Ponting', 27483), ('Jack Kallis', 25534), ('Virat Kohli', 24936)]\n",
    "lst1.sort(key = lambda x: x[1])\n",
    "print(lst1)"
   ]
  },
  {
   "cell_type": "code",
   "execution_count": 1,
   "id": "91e103d7-cf0c-4e8f-b528-4d86d38b11ee",
   "metadata": {},
   "outputs": [
    {
     "name": "stdout",
     "output_type": "stream",
     "text": [
      "[1, 4, 9, 16, 25, 36, 49, 64, 81, 100]\n"
     ]
    }
   ],
   "source": [
    "# Ans2) \n",
    "l= [1, 2, 3, 4, 5, 6, 7, 8, 9, 10]\n",
    "a= list(map(lambda x : x**2,l))\n",
    "print(a)"
   ]
  },
  {
   "cell_type": "code",
   "execution_count": 3,
   "id": "6e34afe5-b64c-40ea-b034-44bb2aa57ecf",
   "metadata": {},
   "outputs": [
    {
     "name": "stdout",
     "output_type": "stream",
     "text": [
      "('1', '2', '3', '4', '5', '6', '7', '8', '9', '10')\n"
     ]
    }
   ],
   "source": [
    "# Ans 3) \n",
    "l1 = [1, 2, 3, 4, 5, 6, 7, 8, 9, 10]\n",
    "b = tuple(map(lambda x: str(x),l1))\n",
    "print(b)"
   ]
  },
  {
   "cell_type": "code",
   "execution_count": 8,
   "id": "08a51a46-52e9-445c-bf70-f2b3d2853142",
   "metadata": {},
   "outputs": [
    {
     "data": {
      "text/plain": [
       "15511210043330985984000000"
      ]
     },
     "execution_count": 8,
     "metadata": {},
     "output_type": "execute_result"
    }
   ],
   "source": [
    "# Ans 4 - Program using reduce function to compute the product of a list containing numbers from 1 to 25.\n",
    "from functools import reduce\n",
    "l1=[1,2,3,4,5,6,7,8,9,10,11,12,13,14,15,16,17,18,19,20,21,22,23,24,25]\n",
    "reduce(lambda x,y :x*y, l1)"
   ]
  },
  {
   "cell_type": "code",
   "execution_count": 28,
   "id": "739f49cd-e4b7-4622-8a5b-11e74846b1ae",
   "metadata": {},
   "outputs": [
    {
     "name": "stdout",
     "output_type": "stream",
     "text": [
      "[6, 60, 90, 120]\n"
     ]
    }
   ],
   "source": [
    "# Ans 5 \n",
    "lst = [2, 3, 6, 9, 27, 60, 90, 120, 55, 46]\n",
    "print(list(filter(lambda x: x%2 ==0 and x%3==0, lst)))"
   ]
  },
  {
   "cell_type": "code",
   "execution_count": 31,
   "id": "baa918fb-2e1c-48d8-bf3f-74d77f3976a1",
   "metadata": {},
   "outputs": [
    {
     "data": {
      "text/plain": [
       "['php', 'aba', 'radar', 'level']"
      ]
     },
     "execution_count": 31,
     "metadata": {},
     "output_type": "execute_result"
    }
   ],
   "source": [
    "# Ans 6\n",
    "lst1= ['python', 'php', 'aba', 'radar', 'level']\n",
    "list(filter(lambda x: x[::-1] ==str(x) ,lst1))"
   ]
  },
  {
   "cell_type": "code",
   "execution_count": null,
   "id": "dbbed9ee-0376-4f12-9578-2de539cef4dd",
   "metadata": {},
   "outputs": [],
   "source": []
  }
 ],
 "metadata": {
  "kernelspec": {
   "display_name": "Python 3 (ipykernel)",
   "language": "python",
   "name": "python3"
  },
  "language_info": {
   "codemirror_mode": {
    "name": "ipython",
    "version": 3
   },
   "file_extension": ".py",
   "mimetype": "text/x-python",
   "name": "python",
   "nbconvert_exporter": "python",
   "pygments_lexer": "ipython3",
   "version": "3.10.8"
  }
 },
 "nbformat": 4,
 "nbformat_minor": 5
}
