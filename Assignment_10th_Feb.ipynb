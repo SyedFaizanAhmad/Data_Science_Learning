{
 "cells": [
  {
   "cell_type": "markdown",
   "id": "f3f1834a-e5bb-4909-a3ad-24912f314f7b",
   "metadata": {},
   "source": [
    "Ans 1) Function open() is used to open a file.\n",
    "Different mode of opening a file are:\n",
    "    r - Open a file for reading. This is default mode.\n",
    "    w - Open a file for writing. Creates a new file if it does not exist or truncates the file if it exists.\n",
    "    x - Open a file for exclusive creation. If the file already exists, the operation fails.\n",
    "    a - Open a file for appending at the end of the file without truncating it. Creates a new file if it does not exist.\n",
    "    t - Open in text mode.\n",
    "    b - Open in binary mode.\n",
    "    + - Open a file for updating (reading and writing).     "
   ]
  },
  {
   "cell_type": "markdown",
   "id": "3c0cc604-61ae-4565-a7d0-fe8aae222c1c",
   "metadata": {},
   "source": [
    "Ans 2) close() function closes the file properly.\n",
    "It is important to close a file as closing a file will free up the resources that were tied with the file. "
   ]
  },
  {
   "cell_type": "markdown",
   "id": "391a4b8e-aca4-4537-b2b5-9fada1b91d16",
   "metadata": {
    "tags": []
   },
   "source": [
    "# open a file\n",
    "file1 = open(\"test.txt\", \"r\")\n",
    "# read the file\n",
    "read_content = file1.read()\n",
    "print(read_content)\n",
    "# close the file\n",
    "file1.close()"
   ]
  },
  {
   "cell_type": "code",
   "execution_count": 2,
   "id": "5b144b87-9330-4918-a6aa-18717aeb1f6f",
   "metadata": {},
   "outputs": [
    {
     "data": {
      "text/plain": [
       "'/home/jovyan/work'"
      ]
     },
     "execution_count": 2,
     "metadata": {},
     "output_type": "execute_result"
    }
   ],
   "source": [
    "pwd"
   ]
  },
  {
   "cell_type": "code",
   "execution_count": 15,
   "id": "1cfc6187-d30e-4564-939c-be96a95ddf7c",
   "metadata": {},
   "outputs": [],
   "source": [
    "#Ans 3)\n",
    "f = open(\"assignment1.txt\" ,'a' )"
   ]
  },
  {
   "cell_type": "code",
   "execution_count": 16,
   "id": "b7adb2a5-de0c-4143-b08b-3e542de08230",
   "metadata": {},
   "outputs": [
    {
     "data": {
      "text/plain": [
       "33"
      ]
     },
     "execution_count": 16,
     "metadata": {},
     "output_type": "execute_result"
    }
   ],
   "source": [
    "f.write(\"I want to become a Data Scientist\")"
   ]
  },
  {
   "cell_type": "code",
   "execution_count": 17,
   "id": "a3c7ad1f-99b2-46fd-b129-7387849a0309",
   "metadata": {},
   "outputs": [],
   "source": [
    "f.close()"
   ]
  },
  {
   "cell_type": "code",
   "execution_count": 18,
   "id": "795a6cfd-37fe-4f36-99d8-5d8c72f72439",
   "metadata": {},
   "outputs": [],
   "source": [
    "rd = open(\"assignment1.txt\",\"r\")"
   ]
  },
  {
   "cell_type": "code",
   "execution_count": 19,
   "id": "3d9f33b0-ed2f-4068-8de1-10a0f662cd95",
   "metadata": {},
   "outputs": [
    {
     "data": {
      "text/plain": [
       "'I want to become a Data Scientist'"
      ]
     },
     "execution_count": 19,
     "metadata": {},
     "output_type": "execute_result"
    }
   ],
   "source": [
    "rd.read()"
   ]
  },
  {
   "cell_type": "markdown",
   "id": "eddc925b-bc69-4ae5-bf11-af122709d8a3",
   "metadata": {},
   "source": [
    "Ans 4) The read() method reads the entire contents of a file and returns it as a string.\n",
    "The readline() method reads a single line from a file and returns it as a string. \n",
    "This means that if you use readline, you can read the contents of a file line by line, which can be useful for processing large files that do not fit in memory.\n",
    "The readline method reads a single line from a file and returns it as a string, while the readlines() method reads the entire contents of a file and returns it \n",
    "as a list of strings, where each element of the list is a single line of the file."
   ]
  },
  {
   "cell_type": "code",
   "execution_count": 33,
   "id": "d7de6abf-7ef3-4e65-aec9-ca43a2a46707",
   "metadata": {},
   "outputs": [],
   "source": [
    "f = open(\"assignment2.txt\" ,'a' )"
   ]
  },
  {
   "cell_type": "code",
   "execution_count": 25,
   "id": "a975b489-8108-4360-9882-979bace93e15",
   "metadata": {},
   "outputs": [
    {
     "data": {
      "text/plain": [
       "50"
      ]
     },
     "execution_count": 25,
     "metadata": {},
     "output_type": "execute_result"
    }
   ],
   "source": [
    "f.write(\"I want to become a Data Scientist. This is line 1.\")"
   ]
  },
  {
   "cell_type": "code",
   "execution_count": 34,
   "id": "346c4bfb-2b82-45b3-8fd5-d5f0855c1070",
   "metadata": {},
   "outputs": [
    {
     "data": {
      "text/plain": [
       "51"
      ]
     },
     "execution_count": 34,
     "metadata": {},
     "output_type": "execute_result"
    }
   ],
   "source": [
    "f.write(\"I want to become a Data Scientist. This is line 1.\"+\"\\n\")"
   ]
  },
  {
   "cell_type": "code",
   "execution_count": 35,
   "id": "56f58062-414c-4dc0-bf94-5a405baafd8b",
   "metadata": {},
   "outputs": [],
   "source": [
    "f.close()"
   ]
  },
  {
   "cell_type": "code",
   "execution_count": 36,
   "id": "abcfd457-c601-4e51-8f49-279ce551c048",
   "metadata": {},
   "outputs": [],
   "source": [
    "rd = open(\"assignment2.txt\",\"r\")"
   ]
  },
  {
   "cell_type": "code",
   "execution_count": 37,
   "id": "efb8892f-aaef-42ab-b054-b5f7d666de67",
   "metadata": {},
   "outputs": [
    {
     "data": {
      "text/plain": [
       "'I want to become a Data Scientist. This is line 1.I want to become a Data Scientist. This is line 1.I want to become a Data Scientist. This is line 1.\\n'"
      ]
     },
     "execution_count": 37,
     "metadata": {},
     "output_type": "execute_result"
    }
   ],
   "source": [
    "rd.read()"
   ]
  },
  {
   "cell_type": "code",
   "execution_count": 38,
   "id": "fac56b9e-f512-4194-ae5b-54edda70d57c",
   "metadata": {},
   "outputs": [
    {
     "data": {
      "text/plain": [
       "''"
      ]
     },
     "execution_count": 38,
     "metadata": {},
     "output_type": "execute_result"
    }
   ],
   "source": [
    "rd.readline()"
   ]
  },
  {
   "cell_type": "code",
   "execution_count": 39,
   "id": "a435d865-8f60-4298-9878-c5167257a052",
   "metadata": {},
   "outputs": [
    {
     "data": {
      "text/plain": [
       "[]"
      ]
     },
     "execution_count": 39,
     "metadata": {},
     "output_type": "execute_result"
    }
   ],
   "source": [
    "rd.readlines()"
   ]
  },
  {
   "cell_type": "markdown",
   "id": "001141cb-b481-4823-bc75-742dfabd9e48",
   "metadata": {},
   "source": [
    "Ans 5) In Python, you can access a file by using the open() method. However, using the open() method directly requires you to use the close() method to close the file explicitly. \n",
    "Instead, you can create a context using the with Open statement in python. It returns a file object, which has methods and attributes for getting information about and manipulating the opened file.\n",
    "With the “With” statement, we get better syntax and exception handling.\n",
    "In addition, it will automatically close the file. The with statement provides a way for ensuring that a clean-up is always used."
   ]
  },
  {
   "cell_type": "code",
   "execution_count": 43,
   "id": "f3ae1993-5c52-4980-a05d-8dba617d01f7",
   "metadata": {},
   "outputs": [
    {
     "name": "stdout",
     "output_type": "stream",
     "text": [
      "I want to become a Data Scientist. This is line 1.I want to become a Data Scientist. This is line 1.I want to become a Data Scientist. This is line 1.\n",
      "\n"
     ]
    }
   ],
   "source": [
    "with open(\"assignment2.txt\") as file:\n",
    "    data = file.read()\n",
    "    print(data)"
   ]
  },
  {
   "cell_type": "markdown",
   "id": "213327d0-37a5-4681-af99-e760b8a5ac5b",
   "metadata": {},
   "source": [
    "Ans 6 ) The only difference between the write() and writelines() is that write() is used to write a string to an already opened file while writelines() method is used to write a list of strings in an opened file."
   ]
  },
  {
   "cell_type": "code",
   "execution_count": 44,
   "id": "dae75a4b-9cf5-47df-a99c-b5387534e776",
   "metadata": {},
   "outputs": [
    {
     "name": "stdin",
     "output_type": "stream",
     "text": [
      "Enter the name of the employee:  faizan\n",
      "Enter the name of the employee:  Shivani\n",
      "Enter the name of the employee:  Rahul\n"
     ]
    }
   ],
   "source": [
    "file = open(\"Employees.txt\", \"w\")  \n",
    "for i in range(3):\n",
    "    name = input(\"Enter the name of the employee: \")\n",
    "    file.write(name)\n",
    "    file.write(\"\\n\")     \n",
    "file.close()"
   ]
  },
  {
   "cell_type": "code",
   "execution_count": 50,
   "id": "fff3ccb9-390f-4eb6-b766-451c56d9dfe5",
   "metadata": {},
   "outputs": [],
   "source": [
    "rd = open(\"Employees.txt\",\"r\")"
   ]
  },
  {
   "cell_type": "code",
   "execution_count": 51,
   "id": "0fd66ac2-330f-4550-90db-e6e41a3038ac",
   "metadata": {},
   "outputs": [
    {
     "data": {
      "text/plain": [
       "['faizan\\n', 'Shivani\\n', 'Rahul\\n']"
      ]
     },
     "execution_count": 51,
     "metadata": {},
     "output_type": "execute_result"
    }
   ],
   "source": [
    "rd.readlines()"
   ]
  },
  {
   "cell_type": "code",
   "execution_count": 52,
   "id": "4158256c-5c72-41e2-9b87-df827518f614",
   "metadata": {},
   "outputs": [
    {
     "name": "stdin",
     "output_type": "stream",
     "text": [
      "Enter the name of the employee:  Faizan\n",
      "Enter the name of the employee:  Shivani\n",
      "Enter the name of the employee:  Rahul\n"
     ]
    }
   ],
   "source": [
    "file1 = open(\"Employees1.txt\", \"w\")\n",
    "lst = []\n",
    "for i in range(3):\n",
    "    name = input(\"Enter the name of the employee: \")\n",
    "    lst.append(name + '\\n')      \n",
    "file1.writelines(lst)\n",
    "file1.close()"
   ]
  },
  {
   "cell_type": "code",
   "execution_count": 53,
   "id": "c6d108fe-01f9-438b-8256-1778f89e95a4",
   "metadata": {},
   "outputs": [],
   "source": [
    "rd1 = open(\"Employees1.txt\",\"r\")"
   ]
  },
  {
   "cell_type": "code",
   "execution_count": 54,
   "id": "a4ff8231-5db3-4dce-a851-7f2e01ab1e31",
   "metadata": {},
   "outputs": [
    {
     "data": {
      "text/plain": [
       "['Faizan\\n', 'Shivani\\n', 'Rahul\\n']"
      ]
     },
     "execution_count": 54,
     "metadata": {},
     "output_type": "execute_result"
    }
   ],
   "source": [
    "rd1.readlines()"
   ]
  },
  {
   "cell_type": "markdown",
   "id": "ec79f99a-5a0e-4723-8706-77a3198fb3e2",
   "metadata": {},
   "source": [
    "Observe that writelines() is writing the storing the input in a list and the writing the complete list at once whereas writeline() s writing line by line."
   ]
  }
 ],
 "metadata": {
  "kernelspec": {
   "display_name": "Python 3 (ipykernel)",
   "language": "python",
   "name": "python3"
  },
  "language_info": {
   "codemirror_mode": {
    "name": "ipython",
    "version": 3
   },
   "file_extension": ".py",
   "mimetype": "text/x-python",
   "name": "python",
   "nbconvert_exporter": "python",
   "pygments_lexer": "ipython3",
   "version": "3.10.8"
  }
 },
 "nbformat": 4,
 "nbformat_minor": 5
}
