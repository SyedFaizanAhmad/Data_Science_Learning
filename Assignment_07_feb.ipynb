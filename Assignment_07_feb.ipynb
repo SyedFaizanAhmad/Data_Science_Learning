{
 "cells": [
  {
   "cell_type": "code",
   "execution_count": 1,
   "id": "dd572cfd-d959-4dfd-a66e-81ee2bc66cf5",
   "metadata": {},
   "outputs": [
    {
     "name": "stdin",
     "output_type": "stream",
     "text": [
      "Enter your password Faizan%$)wnfdnf\n"
     ]
    },
    {
     "name": "stdout",
     "output_type": "stream",
     "text": [
      "Password is invalid\n"
     ]
    }
   ],
   "source": [
    "#Ans 1)\n",
    "import re\n",
    "val = input(\"Enter your password\")\n",
    "ucase = 0\n",
    "lcase = 0\n",
    "scase = 0\n",
    "ncase = 0\n",
    "for rec in val:\n",
    "    if rec.isupper():\n",
    "        ucase = ucase+1\n",
    "    elif rec.islower():\n",
    "        lcase = lcase+1\n",
    "    elif rec.isdigit():\n",
    "        ncase = ncase+1\n",
    "    elif (bool(re.search('^[a-zA-Z0-9]*$',rec))!=True):        \n",
    "        scase =scase+1\n",
    "val_len = len(val)\n",
    "if ucase >=2 and lcase >=2 and ncase >=1 and scase >=3 and val_len >=10:\n",
    "    print(\"Password is valid\")\n",
    "else:\n",
    "    print(\"Password is invalid\")"
   ]
  },
  {
   "cell_type": "code",
   "execution_count": 10,
   "id": "d77eb666-08a9-46c0-a292-248fe85186bb",
   "metadata": {},
   "outputs": [
    {
     "name": "stdout",
     "output_type": "stream",
     "text": [
      "True\n"
     ]
    }
   ],
   "source": [
    "#Ans 2) Check if string starts with a character\n",
    "val=lambda inp_string,inp_char:inp_string[0]==inp_char\n",
    "print(val(\"Faizan\",\"F\"))"
   ]
  },
  {
   "cell_type": "code",
   "execution_count": 11,
   "id": "447c8710-7b34-4cf7-a0dc-16afa23c990a",
   "metadata": {},
   "outputs": [
    {
     "data": {
      "text/plain": [
       "False"
      ]
     },
     "execution_count": 11,
     "metadata": {},
     "output_type": "execute_result"
    }
   ],
   "source": [
    "val(\"PWskills\",\"p\")"
   ]
  },
  {
   "cell_type": "code",
   "execution_count": 12,
   "id": "1b870148-2309-4e72-be64-09f3b709b194",
   "metadata": {},
   "outputs": [],
   "source": [
    "#Ans 2) Check if string is numeric\n",
    "val1 = lambda st: st.isdigit()"
   ]
  },
  {
   "cell_type": "code",
   "execution_count": 13,
   "id": "07e019f2-1706-40e1-a812-d1a0b5e0957b",
   "metadata": {},
   "outputs": [
    {
     "data": {
      "text/plain": [
       "True"
      ]
     },
     "execution_count": 13,
     "metadata": {},
     "output_type": "execute_result"
    }
   ],
   "source": [
    "val1(\"1234\")"
   ]
  },
  {
   "cell_type": "code",
   "execution_count": 14,
   "id": "650c5f2c-5f3b-46e0-822a-944e91c77eab",
   "metadata": {},
   "outputs": [
    {
     "data": {
      "text/plain": [
       "False"
      ]
     },
     "execution_count": 14,
     "metadata": {},
     "output_type": "execute_result"
    }
   ],
   "source": [
    "val1(\"H23Y\")"
   ]
  },
  {
   "cell_type": "code",
   "execution_count": 24,
   "id": "e079c7c6-8c60-4b1d-8dcf-f574cbf31e69",
   "metadata": {},
   "outputs": [
    {
     "name": "stdout",
     "output_type": "stream",
     "text": [
      "[('grapes', 1000), ('mango', 99), ('orange', 80)]\n"
     ]
    }
   ],
   "source": [
    "# Ans 2 Sort a list of tuples having fruit names and their quantity.\n",
    "lst = [(\"mango\",99),(\"orange\",80), (\"grapes\", 1000)]\n",
    "lst.sort(key = lambda x: x[0])\n",
    "print(lst)"
   ]
  },
  {
   "cell_type": "code",
   "execution_count": 33,
   "id": "8de6d990-9f0a-453e-934f-8414e60527c6",
   "metadata": {},
   "outputs": [
    {
     "name": "stdout",
     "output_type": "stream",
     "text": [
      "[1, 4, 9, 16, 25, 36, 49, 64, 81, 100]\n"
     ]
    }
   ],
   "source": [
    "# Ans 2 Find the squares of numbers from 1 to 10\n",
    "lst1 = [1,2,3,4,5,6,7,8,9,10]\n",
    "val1 = list(map(lambda x: x**2,lst1))\n",
    "print(val1)"
   ]
  },
  {
   "cell_type": "code",
   "execution_count": 34,
   "id": "f6a87a75-0f8d-44f9-8c9c-804550a00630",
   "metadata": {},
   "outputs": [
    {
     "name": "stdout",
     "output_type": "stream",
     "text": [
      "[1.0, 1.2599210498948732, 1.4422495703074083, 1.5874010519681994, 1.7099759466766968, 1.8171205928321397, 1.912931182772389, 2.0, 2.080083823051904, 2.154434690031884]\n"
     ]
    }
   ],
   "source": [
    "# Ans 2 Find cube root of numbers from 1 to 10\n",
    "val1 = list(map(lambda x: x**(1/3),lst1))\n",
    "print(val1)"
   ]
  },
  {
   "cell_type": "code",
   "execution_count": 36,
   "id": "370ac59b-285e-49f2-9c95-018275cc11d7",
   "metadata": {},
   "outputs": [
    {
     "data": {
      "text/plain": [
       "True"
      ]
     },
     "execution_count": 36,
     "metadata": {},
     "output_type": "execute_result"
    }
   ],
   "source": [
    "# Ans 2 Check if number is even\n",
    "eve_num = lambda x:x%2==0\n",
    "eve_num(10)"
   ]
  },
  {
   "cell_type": "code",
   "execution_count": 38,
   "id": "8908635d-f820-4264-ba3d-ff9faefc6692",
   "metadata": {},
   "outputs": [
    {
     "data": {
      "text/plain": [
       "True"
      ]
     },
     "execution_count": 38,
     "metadata": {},
     "output_type": "execute_result"
    }
   ],
   "source": [
    "eve_num(102)"
   ]
  },
  {
   "cell_type": "code",
   "execution_count": 46,
   "id": "cc9ad9ce-7aa1-47c9-9d9b-a42ab6528280",
   "metadata": {},
   "outputs": [
    {
     "name": "stdout",
     "output_type": "stream",
     "text": [
      "[1, 3, 5, 7, 9]\n"
     ]
    }
   ],
   "source": [
    "# Ans 2 ) Find odd numbers from the given list\n",
    "lst2= [1,2,3,4,5,6,7,8,9,10]\n",
    "odd_num =list(filter(lambda x : x%2 !=0,lst2))\n",
    "print(odd_num)"
   ]
  },
  {
   "cell_type": "code",
   "execution_count": 53,
   "id": "ee122f99-05bc-4195-ba36-a0d7a5222293",
   "metadata": {},
   "outputs": [
    {
     "name": "stdout",
     "output_type": "stream",
     "text": [
      "[1, 2, 3, 4, 5, 6]\n",
      "[-1, -2, -3, -4, -5]\n"
     ]
    }
   ],
   "source": [
    "# Ans 2 ) Find negative and positive list\n",
    "lst3 = [1,2,3,4,5,6,-1,-2,-3,-4,-5,0]\n",
    "pos =[rec for rec in lst3 if rec > 0]\n",
    "neg =[rec for rec in lst3 if rec < 0]\n",
    "print(pos)\n",
    "print(neg)"
   ]
  },
  {
   "cell_type": "code",
   "execution_count": null,
   "id": "250aa4e2-955c-4688-b6e9-a1d4e662d4bb",
   "metadata": {},
   "outputs": [],
   "source": []
  }
 ],
 "metadata": {
  "kernelspec": {
   "display_name": "Python 3 (ipykernel)",
   "language": "python",
   "name": "python3"
  },
  "language_info": {
   "codemirror_mode": {
    "name": "ipython",
    "version": 3
   },
   "file_extension": ".py",
   "mimetype": "text/x-python",
   "name": "python",
   "nbconvert_exporter": "python",
   "pygments_lexer": "ipython3",
   "version": "3.10.8"
  }
 },
 "nbformat": 4,
 "nbformat_minor": 5
}
