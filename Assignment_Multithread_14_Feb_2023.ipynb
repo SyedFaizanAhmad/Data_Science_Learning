{
 "cells": [
  {
   "cell_type": "markdown",
   "id": "58deed21-c24d-4ed9-b2fa-a35f99543b8d",
   "metadata": {},
   "source": [
    "Ans 1) Multithreading is a threading technique in Python programming to run multiple threads concurrently by rapidly switching between threads with a CPU help (called context switching).\n",
    "It is a way of achieving multitasking.\n",
    "Threading is the module to handle threads in Python."
   ]
  },
  {
   "cell_type": "markdown",
   "id": "95787d18-5b1a-426c-a82b-109f277e2560",
   "metadata": {},
   "source": [
    "Ans 2)  The threading module provides a very simple and intuitive API for spawning multiple threads in a program.\n",
    "        The threading module exposes all the methods of the thread module and provides some additional methods.\n",
    "    threading.activeCount() − Returns the number of thread objects that are active.\n",
    "    threading.currentThread() − Returns the number of thread objects in the caller's thread control.\n",
    "    threading.enumerate() − Returns a list of all thread objects that are currently active"
   ]
  },
  {
   "cell_type": "markdown",
   "id": "fc4a4ad2-0cc0-49e1-9bf9-3f9781242ef2",
   "metadata": {},
   "source": [
    "Ans 3) run()  − The run() method is the entry point for a thread.\n",
    "start()  − The start() method starts a thread by calling the run method.\n",
    "join([time])  − The join() waits for threads to terminate.\n",
    "isAlive()  − The isAlive() method checks whether a thread is still executing."
   ]
  },
  {
   "cell_type": "code",
   "execution_count": 5,
   "id": "d7f92cc3-5561-486d-b931-1bda3830e776",
   "metadata": {},
   "outputs": [
    {
     "name": "stdout",
     "output_type": "stream",
     "text": [
      "Square: [100]\n",
      "Cube: [1000]\n",
      "Done!\n"
     ]
    }
   ],
   "source": [
    "#Ans 4)\n",
    "import threading \n",
    " \n",
    "def print_cube(num):\n",
    "    # function to print cube of given num\n",
    "    lst = [num*num*num]\n",
    "    print(\"Cube: {}\" .format(lst))\n",
    " \n",
    " \n",
    "def print_square(num):\n",
    "    # function to print square of given num\n",
    "    lst2 = [num*num]\n",
    "    print(\"Square: {}\" .format(lst2))   \n",
    "    \n",
    " \n",
    "if __name__ ==\"__main__\":\n",
    "    # creating thread\n",
    "    t1 = threading.Thread(target=print_square, args=(10,))\n",
    "    t2 = threading.Thread(target=print_cube, args=(10,))\n",
    " \n",
    "    # starting thread 1\n",
    "    t1.start()\n",
    "    # starting thread 2\n",
    "    t2.start()\n",
    " \n",
    "    # wait until thread 1 is completely executed\n",
    "    t1.join()\n",
    "    # wait until thread 2 is completely executed\n",
    "    t2.join()\n",
    " \n",
    "    # both threads completely executed\n",
    "    print(\"Done!\")"
   ]
  },
  {
   "cell_type": "markdown",
   "id": "92537e51-b251-4a74-9780-3725cb953fb9",
   "metadata": {},
   "source": [
    "#Ans 5) Advantages of multithreading in Python:\n",
    " 1. Multithreading in Python streamlines the efficient utilization of resources as the threads share the same memory and data space.\n",
    " 2. It also allows the concurrent appearance of multiple tasks and reduces the response time. This improves the performance.\n",
    "Disadvantages of multithreading in Python :\n",
    "1. When context switch happens it block process, as process is maintaining threads so threads also block.\n",
    "2. Multithreaded application cannot take advantage of multiprocessing"
   ]
  },
  {
   "cell_type": "code",
   "execution_count": null,
   "id": "1aea4445-ce74-45ee-afca-f9e62463f8ee",
   "metadata": {},
   "outputs": [],
   "source": [
    "# Ans 6) \n",
    "When two processes are waiting for each other directly or indirectly, it is called deadlock.\n",
    "This usually occurs when two processes are waiting for shared resources acquired by others. For example, If thread T1 acquired resource R1 and it also needs resource R2 for it to accomplish its task. \n",
    "But the resource R2 is acquired by thread T2 which is waiting for resource R1(which is acquired by T1).\n",
    "Neither of them will be able to accomplish its task, as they keep waiting for the other resources they need. This situation created deadlock.\n",
    "Race Condition:\n",
    "    When two processes are competing with each other causing data corruption.\n",
    "    Eg: When two persons are trying to deposit 1 dollar online into the same bank account. The initial amount is 17 dollar. Both the persons would be able to see $17 initially. \n",
    "    Each of them tries to deposit $1, and the final amount is expected to be $19. But due to race conditions, the final amount in the bank is $18 instead of $19. This is also known as dirty read.\n",
    "\n",
    "For example, if two processes/threads are trying to execute the following conditions simultaneously, they cause data corruption:\n",
    "\n",
    "Thread 1:\n",
    "total = num1 + num2\n",
    "\n",
    "Thread 2:\n",
    "total = num1 - num2\n",
    "\n",
    "It is very common for the race conditions to go unnoticed during testing even after multiple tests and code reviews. \n",
    "But in production, there would be a lot of processes and threads working parallelly and compete for the same resources, and this problem would occur.\n",
    "    "
   ]
  },
  {
   "cell_type": "code",
   "execution_count": null,
   "id": "900fbcb8-c4de-42ba-8bcb-8baf7c7a1fc9",
   "metadata": {},
   "outputs": [],
   "source": []
  }
 ],
 "metadata": {
  "kernelspec": {
   "display_name": "Python 3 (ipykernel)",
   "language": "python",
   "name": "python3"
  },
  "language_info": {
   "codemirror_mode": {
    "name": "ipython",
    "version": 3
   },
   "file_extension": ".py",
   "mimetype": "text/x-python",
   "name": "python",
   "nbconvert_exporter": "python",
   "pygments_lexer": "ipython3",
   "version": "3.10.8"
  }
 },
 "nbformat": 4,
 "nbformat_minor": 5
}
