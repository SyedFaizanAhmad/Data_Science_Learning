{
 "cells": [
  {
   "cell_type": "markdown",
   "id": "ec7e450a-4617-4418-beb7-308434799bed",
   "metadata": {},
   "source": [
    "Ans 1) An Exception iis an event that which when occured distrupts the execution of the program. We can say it is the problem in the program that fails the program execution.\n",
    "There are two types of errors in python:\n",
    "    1. Syntax error - The program will not get compiled if there are any syntax error. Eg: \n",
    "        while (a>20) print 9()\n",
    "        This is a syntax error as we have not properly defined the while statement in correct syntax.\n",
    "    2. Exception : These error occurs normally when we write our code assuming some data and we get something else. The exception also occus when we do not follow a correct sequence like \n",
    "    reading a file that is not created.\n",
    "    Eg: print(a/b)\n",
    "        This statement will wok as long we have b <> 0 but will fail if we have b as 0. This will be an exception case that need to be handled."
   ]
  },
  {
   "cell_type": "markdown",
   "id": "ae58a61a-007b-47d3-ae5e-d55e71a66fa5",
   "metadata": {},
   "source": [
    "Ans 2) If we do not handle an exception in our code block then the code fails.\n",
    " eg: The below code will give error:"
   ]
  },
  {
   "cell_type": "code",
   "execution_count": 1,
   "id": "fbe9cbb1-96d8-42b6-8afb-41b24b37c230",
   "metadata": {},
   "outputs": [
    {
     "ename": "FileNotFoundError",
     "evalue": "[Errno 2] No such file or directory: 'faiz.csv'",
     "output_type": "error",
     "traceback": [
      "\u001b[0;31m---------------------------------------------------------------------------\u001b[0m",
      "\u001b[0;31mFileNotFoundError\u001b[0m                         Traceback (most recent call last)",
      "Cell \u001b[0;32mIn[1], line 2\u001b[0m\n\u001b[1;32m      1\u001b[0m \u001b[38;5;66;03m#We are trying to open a file to read that is not existing \u001b[39;00m\n\u001b[0;32m----> 2\u001b[0m fil \u001b[38;5;241m=\u001b[39m\u001b[38;5;28;43mopen\u001b[39;49m\u001b[43m(\u001b[49m\u001b[38;5;124;43m\"\u001b[39;49m\u001b[38;5;124;43mfaiz.csv\u001b[39;49m\u001b[38;5;124;43m\"\u001b[39;49m\u001b[43m,\u001b[49m\u001b[38;5;124;43m\"\u001b[39;49m\u001b[38;5;124;43mr\u001b[39;49m\u001b[38;5;124;43m\"\u001b[39;49m\u001b[43m)\u001b[49m\n",
      "File \u001b[0;32m/opt/conda/lib/python3.10/site-packages/IPython/core/interactiveshell.py:282\u001b[0m, in \u001b[0;36m_modified_open\u001b[0;34m(file, *args, **kwargs)\u001b[0m\n\u001b[1;32m    275\u001b[0m \u001b[38;5;28;01mif\u001b[39;00m file \u001b[38;5;129;01min\u001b[39;00m {\u001b[38;5;241m0\u001b[39m, \u001b[38;5;241m1\u001b[39m, \u001b[38;5;241m2\u001b[39m}:\n\u001b[1;32m    276\u001b[0m     \u001b[38;5;28;01mraise\u001b[39;00m \u001b[38;5;167;01mValueError\u001b[39;00m(\n\u001b[1;32m    277\u001b[0m         \u001b[38;5;124mf\u001b[39m\u001b[38;5;124m\"\u001b[39m\u001b[38;5;124mIPython won\u001b[39m\u001b[38;5;124m'\u001b[39m\u001b[38;5;124mt let you open fd=\u001b[39m\u001b[38;5;132;01m{\u001b[39;00mfile\u001b[38;5;132;01m}\u001b[39;00m\u001b[38;5;124m by default \u001b[39m\u001b[38;5;124m\"\u001b[39m\n\u001b[1;32m    278\u001b[0m         \u001b[38;5;124m\"\u001b[39m\u001b[38;5;124mas it is likely to crash IPython. If you know what you are doing, \u001b[39m\u001b[38;5;124m\"\u001b[39m\n\u001b[1;32m    279\u001b[0m         \u001b[38;5;124m\"\u001b[39m\u001b[38;5;124myou can use builtins\u001b[39m\u001b[38;5;124m'\u001b[39m\u001b[38;5;124m open.\u001b[39m\u001b[38;5;124m\"\u001b[39m\n\u001b[1;32m    280\u001b[0m     )\n\u001b[0;32m--> 282\u001b[0m \u001b[38;5;28;01mreturn\u001b[39;00m \u001b[43mio_open\u001b[49m\u001b[43m(\u001b[49m\u001b[43mfile\u001b[49m\u001b[43m,\u001b[49m\u001b[43m \u001b[49m\u001b[38;5;241;43m*\u001b[39;49m\u001b[43margs\u001b[49m\u001b[43m,\u001b[49m\u001b[43m \u001b[49m\u001b[38;5;241;43m*\u001b[39;49m\u001b[38;5;241;43m*\u001b[39;49m\u001b[43mkwargs\u001b[49m\u001b[43m)\u001b[49m\n",
      "\u001b[0;31mFileNotFoundError\u001b[0m: [Errno 2] No such file or directory: 'faiz.csv'"
     ]
    }
   ],
   "source": [
    "#We are trying to open a file to read that is not existing \n",
    "fil =open(\"faiz.csv\",\"r\")"
   ]
  },
  {
   "cell_type": "markdown",
   "id": "7cfdba02-6e70-4e11-827b-8ec99e8adf8d",
   "metadata": {},
   "source": [
    "Ans 3) The python statements used to catch and handle exceptions are try and except.\n",
    "eg:"
   ]
  },
  {
   "cell_type": "code",
   "execution_count": 2,
   "id": "920be28d-221d-48da-b4ca-4fa40740b6dd",
   "metadata": {},
   "outputs": [
    {
     "name": "stdout",
     "output_type": "stream",
     "text": [
      "oops! Seems I have issue with my code  [Errno 2] No such file or directory: 'faiz.txt'\n",
      "this is my print\n"
     ]
    }
   ],
   "source": [
    "try:\n",
    "    f = open(\"faiz.txt\" , 'r')\n",
    "except Exception as e :\n",
    "    print(\"oops! Seems I have issue with my code \", e)\n",
    "print(\"this is my print\")"
   ]
  },
  {
   "cell_type": "markdown",
   "id": "d0d5a8b6-efc8-4909-8f03-93553783f2ba",
   "metadata": {},
   "source": [
    "Ans 4) a. try and else - The try block lets you test a block of code for errors while else block lets you execute code when there is no error"
   ]
  },
  {
   "cell_type": "code",
   "execution_count": 4,
   "id": "22843a46-68be-479a-85cb-97ea200c8f97",
   "metadata": {},
   "outputs": [
    {
     "name": "stdout",
     "output_type": "stream",
     "text": [
      "Hello\n",
      "Nothing went wrong\n"
     ]
    }
   ],
   "source": [
    "# Example showing the working of try and else block. Since there is no exception the else part will be executed.\n",
    "try:\n",
    "  print(\"Hello\")\n",
    "except Exception as e :\n",
    "  print(\"Something went wrong\")\n",
    "else:\n",
    "  print(\"Nothing went wrong\")"
   ]
  },
  {
   "cell_type": "markdown",
   "id": "59bd86e8-30d1-46a2-8f04-ec7974bbe50f",
   "metadata": {},
   "source": [
    "b. finally - The finally block lets you execute code, regardless of the result of the try- and except blocks. This will get executed even if we get the exception."
   ]
  },
  {
   "cell_type": "code",
   "execution_count": 5,
   "id": "0b85632d-c80f-43f0-95c5-498b518a3837",
   "metadata": {},
   "outputs": [
    {
     "name": "stdout",
     "output_type": "stream",
     "text": [
      "Something went wrong\n",
      "I will execute irrespective of anything\n"
     ]
    }
   ],
   "source": [
    "# Example showing the working of finally. Since there is no exception the else part will be executed.\n",
    "try:\n",
    "  print(x)\n",
    "except Exception as e :\n",
    "  print(\"Something went wrong\")\n",
    "finally:\n",
    "  print(\"I will execute irrespective of anything\")"
   ]
  },
  {
   "cell_type": "markdown",
   "id": "614d7d65-6b1f-40b6-a4d7-fc71d0371858",
   "metadata": {},
   "source": [
    "c. raise - As a Python developer you can choose to throw an exception if a condition occurs.\n",
    "To throw (or raise) an exception, use the raise keyword.\n",
    "The raise keyword is used to raise an exception."
   ]
  },
  {
   "cell_type": "code",
   "execution_count": 6,
   "id": "14405b5f-5301-4353-b29e-ba95bdd1c6bf",
   "metadata": {},
   "outputs": [
    {
     "ename": "TypeError",
     "evalue": "Only integers are allowed",
     "output_type": "error",
     "traceback": [
      "\u001b[0;31m---------------------------------------------------------------------------\u001b[0m",
      "\u001b[0;31mTypeError\u001b[0m                                 Traceback (most recent call last)",
      "Cell \u001b[0;32mIn[6], line 3\u001b[0m\n\u001b[1;32m      1\u001b[0m x \u001b[38;5;241m=\u001b[39m \u001b[38;5;124m\"\u001b[39m\u001b[38;5;124mhello\u001b[39m\u001b[38;5;124m\"\u001b[39m\n\u001b[1;32m      2\u001b[0m \u001b[38;5;28;01mif\u001b[39;00m \u001b[38;5;129;01mnot\u001b[39;00m \u001b[38;5;28mtype\u001b[39m(x) \u001b[38;5;129;01mis\u001b[39;00m \u001b[38;5;28mint\u001b[39m:\n\u001b[0;32m----> 3\u001b[0m   \u001b[38;5;28;01mraise\u001b[39;00m \u001b[38;5;167;01mTypeError\u001b[39;00m(\u001b[38;5;124m\"\u001b[39m\u001b[38;5;124mOnly integers are allowed\u001b[39m\u001b[38;5;124m\"\u001b[39m)\n",
      "\u001b[0;31mTypeError\u001b[0m: Only integers are allowed"
     ]
    }
   ],
   "source": [
    "x = \"hello\"\n",
    "if not type(x) is int:\n",
    "  raise TypeError(\"Only integers are allowed\")"
   ]
  },
  {
   "cell_type": "markdown",
   "id": "147591cf-dff1-4fb9-a3b5-8e9be325ffe4",
   "metadata": {},
   "source": [
    "Ans  5) Custom exceptions are the ones that are defined or customized by the user.\n",
    "We need them as we want to customize our exception scenarios. "
   ]
  },
  {
   "cell_type": "code",
   "execution_count": 7,
   "id": "676b52e6-5231-43a7-8671-e84590c0cb62",
   "metadata": {},
   "outputs": [],
   "source": [
    "#Eg:\n",
    "class InvalidAgeException(Exception):\n",
    "    \"Raised when the input value is less than 18\"\n",
    "    pass"
   ]
  },
  {
   "cell_type": "code",
   "execution_count": 8,
   "id": "a87b3bd8-7100-479e-89fb-692ab6524a89",
   "metadata": {},
   "outputs": [
    {
     "name": "stdin",
     "output_type": "stream",
     "text": [
      "Enter a number:  12\n"
     ]
    },
    {
     "name": "stdout",
     "output_type": "stream",
     "text": [
      "Exception occurred: Invalid Age\n"
     ]
    }
   ],
   "source": [
    "number = 18\n",
    "try:\n",
    "    input_num = int(input(\"Enter a number: \"))\n",
    "    if input_num < number:\n",
    "        raise InvalidAgeException\n",
    "    else:\n",
    "        print(\"Eligible to Vote\")        \n",
    "except InvalidAgeException:\n",
    "    print(\"Exception occurred: Invalid Age\")"
   ]
  },
  {
   "cell_type": "code",
   "execution_count": 10,
   "id": "1a72abae-4347-4356-9463-97ccc8f63614",
   "metadata": {},
   "outputs": [
    {
     "name": "stdin",
     "output_type": "stream",
     "text": [
      "Enter a number:  56\n"
     ]
    },
    {
     "name": "stdout",
     "output_type": "stream",
     "text": [
      "Eligible to Vote\n"
     ]
    }
   ],
   "source": [
    "number = 18\n",
    "try:\n",
    "    input_num = int(input(\"Enter a number: \"))\n",
    "    if input_num < number:\n",
    "        raise InvalidAgeException\n",
    "    else:\n",
    "        print(\"Eligible to Vote\")        \n",
    "except InvalidAgeException:\n",
    "    print(\"Exception occurred: Invalid Age\")"
   ]
  },
  {
   "cell_type": "code",
   "execution_count": null,
   "id": "d2590864-0a21-4c63-8f57-4d32ff1d917d",
   "metadata": {},
   "outputs": [],
   "source": [
    "#Ans 5)\n",
    "class SalaryNotInRangeError(Exception):\n",
    "    \"\"\"Exception raised for errors in the input salary.\n",
    "\n",
    "    Attributes:\n",
    "        salary -- input salary which caused the error\n",
    "        message -- explanation of the error\n",
    "    \"\"\"\n",
    "\n",
    "    def __init__(self, salary, message=\"Salary is not in (5000, 15000) range\"):\n",
    "        self.salary = salary\n",
    "        self.message = message\n",
    "        super().__init__(self.message)\n",
    "\n",
    "\n",
    "salary = int(input(\"Enter salary amount: \"))\n",
    "if not 5000 < salary < 15000:\n",
    "    raise SalaryNotInRangeError(salary)\n",
    "else:\n",
    "    print(\"Salary is in range\")"
   ]
  },
  {
   "cell_type": "code",
   "execution_count": null,
   "id": "c0c1e31a-fd7e-4566-bbbc-26daabd0e360",
   "metadata": {},
   "outputs": [],
   "source": []
  }
 ],
 "metadata": {
  "kernelspec": {
   "display_name": "Python 3 (ipykernel)",
   "language": "python",
   "name": "python3"
  },
  "language_info": {
   "codemirror_mode": {
    "name": "ipython",
    "version": 3
   },
   "file_extension": ".py",
   "mimetype": "text/x-python",
   "name": "python",
   "nbconvert_exporter": "python",
   "pygments_lexer": "ipython3",
   "version": "3.10.8"
  }
 },
 "nbformat": 4,
 "nbformat_minor": 5
}
