{
 "cells": [
  {
   "cell_type": "markdown",
   "id": "b794d68f-81f8-4bac-80e8-dd41c184da26",
   "metadata": {},
   "source": [
    "Ans 1) The keyword def is used to define a function."
   ]
  },
  {
   "cell_type": "code",
   "execution_count": 22,
   "id": "d2b3fd94-99bc-4a40-972c-a0ebf7696c2a",
   "metadata": {},
   "outputs": [],
   "source": [
    "def ret_oddnumbers():\n",
    "    n = []\n",
    "    for rec in range(1,25):\n",
    "        if rec%2 != 0:\n",
    "            n.append(rec)\n",
    "    return n"
   ]
  },
  {
   "cell_type": "code",
   "execution_count": 23,
   "id": "305cbd5d-12b1-4fc1-be18-242def4ee937",
   "metadata": {},
   "outputs": [
    {
     "name": "stdout",
     "output_type": "stream",
     "text": [
      "[1, 3, 5, 7, 9, 11, 13, 15, 17, 19, 21, 23]\n"
     ]
    }
   ],
   "source": [
    "print(ret_oddnumbers())"
   ]
  },
  {
   "cell_type": "markdown",
   "id": "09820629-4e67-412c-aefb-0451ba78d2c3",
   "metadata": {},
   "source": [
    "Ans 2) *args is used to take multiple inputs while calling the function whereas **args is used when we need to tak input in form of a dictionary"
   ]
  },
  {
   "cell_type": "code",
   "execution_count": 26,
   "id": "565fb30d-9dfd-403f-8d18-ce346c335049",
   "metadata": {},
   "outputs": [],
   "source": [
    "#Function to return only the list values from input\n",
    "def ret_list_values(*args):\n",
    "    n=[]\n",
    "    for rec in args:\n",
    "        if (type(rec)==list):\n",
    "            n.append(rec)\n",
    "    return n"
   ]
  },
  {
   "cell_type": "code",
   "execution_count": 27,
   "id": "14013b5a-8062-47b9-8c1d-678714a23192",
   "metadata": {},
   "outputs": [
    {
     "data": {
      "text/plain": [
       "[[7, 6, 5, 4], ['a', 'b']]"
      ]
     },
     "execution_count": 27,
     "metadata": {},
     "output_type": "execute_result"
    }
   ],
   "source": [
    "ret_list_values((1,2,3),[7,6,5,4],5,9,\"Faizan\",[\"a\",\"b\"])"
   ]
  },
  {
   "cell_type": "markdown",
   "id": "c55320ab-6b16-41b8-93f3-4a7afee0ec47",
   "metadata": {},
   "source": [
    "Ans 3) Iterator in Python is an object that is used to iterate over iterable objects like lists, tuples, dicts, and sets. \n",
    "The iterator object is initialized using the iter() method. It uses the next() method for iteration.\n",
    "\n",
    "__iter__(): The iter() method is called for the initialization of an iterator. This returns an iterator object\n",
    "__next__(): The next method returns the next value for the iterable. When we use a for loop to traverse any iterable object,\n",
    " internally it uses the iter() method to get an iterator object, which further uses the next() method to iterate over. This method raises a StopIteration to signal the end of the iteration."
   ]
  },
  {
   "cell_type": "code",
   "execution_count": 29,
   "id": "d4a96aea-017a-4842-87e3-5b0908e332cd",
   "metadata": {},
   "outputs": [
    {
     "name": "stdout",
     "output_type": "stream",
     "text": [
      "2\n",
      "4\n",
      "6\n",
      "8\n",
      "10\n"
     ]
    }
   ],
   "source": [
    "l =[2,4,6,8,10,12,14,16,20]\n",
    "ch_iterator = iter(l) \n",
    "i=0\n",
    "for rec in l:\n",
    "    if i<5:\n",
    "        print(next(ch_iterator))\n",
    "        i=i+1"
   ]
  },
  {
   "cell_type": "code",
   "execution_count": 32,
   "id": "16b3e495-26ac-4a35-8821-d97b172c9d09",
   "metadata": {},
   "outputs": [
    {
     "name": "stdout",
     "output_type": "stream",
     "text": [
      "2\n",
      "4\n",
      "6\n",
      "8\n",
      "10\n"
     ]
    }
   ],
   "source": [
    "#Using for loop\n",
    "l = [2,4,6,8,10,12,14,16,20]\n",
    "for rec in range (0,5):\n",
    "    print(l[rec])"
   ]
  },
  {
   "cell_type": "markdown",
   "id": "53df06de-d9d7-4dad-9139-b6e5d3ba68e4",
   "metadata": {},
   "source": [
    "Ans 4 ) The function actually return the value after complete processing of the logic written during which it has to hold the values in memory. For example if we need\n",
    "list of fibonacci series then the function will have the same in memory and then finally share the series. Whereas in generator functions are useful \n",
    "when we want to produce a large sequence of values, but we don't want to store all of them in memory at once. The yield keyword is used for the same."
   ]
  },
  {
   "cell_type": "code",
   "execution_count": 33,
   "id": "6d0284e5-ef80-4a3f-8607-8e6eaad2bd1d",
   "metadata": {},
   "outputs": [],
   "source": [
    "def fib_series(n):\n",
    "    a,b = 0,1\n",
    "    for i in range(n):\n",
    "        yield a\n",
    "        a,b = b, a+b"
   ]
  },
  {
   "cell_type": "code",
   "execution_count": 34,
   "id": "b367f16c-9e06-440f-9ffd-c100bcaca984",
   "metadata": {},
   "outputs": [
    {
     "name": "stdout",
     "output_type": "stream",
     "text": [
      "0\n",
      "1\n",
      "1\n",
      "2\n",
      "3\n",
      "5\n",
      "8\n",
      "13\n",
      "21\n",
      "34\n",
      "55\n",
      "89\n",
      "144\n",
      "233\n",
      "377\n",
      "610\n",
      "987\n",
      "1597\n",
      "2584\n",
      "4181\n"
     ]
    }
   ],
   "source": [
    "for i in fib_series(20):\n",
    "    print(i)"
   ]
  },
  {
   "cell_type": "code",
   "execution_count": 65,
   "id": "c7be4363-298f-49c5-8d80-a9e77c23fede",
   "metadata": {},
   "outputs": [],
   "source": [
    "#Ans 5)\n",
    "def prime_number(n):\n",
    "    #l =[]\n",
    "    num = 2\n",
    "    while num <= n:\n",
    "        a = 0\n",
    "        for rec in range(2,num-1):\n",
    "            if num%rec == 0:\n",
    "                a =1\n",
    "        if a == 0:\n",
    "            yield num\n",
    "        num = num+1\n",
    "        #yield l\n",
    "    #return l\n",
    "            \n",
    "    "
   ]
  },
  {
   "cell_type": "code",
   "execution_count": 67,
   "id": "89df736d-0ec3-4091-a1c1-3d969634449c",
   "metadata": {},
   "outputs": [
    {
     "name": "stdout",
     "output_type": "stream",
     "text": [
      "2\n",
      "3\n",
      "5\n",
      "7\n",
      "11\n",
      "13\n",
      "17\n",
      "19\n",
      "23\n",
      "29\n",
      "31\n",
      "37\n",
      "41\n",
      "43\n",
      "47\n",
      "53\n",
      "59\n",
      "61\n",
      "67\n",
      "71\n",
      "73\n",
      "79\n",
      "83\n",
      "89\n",
      "97\n",
      "101\n",
      "103\n",
      "107\n",
      "109\n",
      "113\n",
      "127\n",
      "131\n",
      "137\n",
      "139\n",
      "149\n",
      "151\n",
      "157\n",
      "163\n",
      "167\n",
      "173\n",
      "179\n",
      "181\n",
      "191\n",
      "193\n",
      "197\n",
      "199\n",
      "211\n",
      "223\n",
      "227\n",
      "229\n",
      "233\n",
      "239\n",
      "241\n",
      "251\n",
      "257\n",
      "263\n",
      "269\n",
      "271\n",
      "277\n",
      "281\n",
      "283\n",
      "293\n",
      "307\n",
      "311\n",
      "313\n",
      "317\n",
      "331\n",
      "337\n",
      "347\n",
      "349\n",
      "353\n",
      "359\n",
      "367\n",
      "373\n",
      "379\n",
      "383\n",
      "389\n",
      "397\n",
      "401\n",
      "409\n",
      "419\n",
      "421\n",
      "431\n",
      "433\n",
      "439\n",
      "443\n",
      "449\n",
      "457\n",
      "461\n",
      "463\n",
      "467\n",
      "479\n",
      "487\n",
      "491\n",
      "499\n",
      "503\n",
      "509\n",
      "521\n",
      "523\n",
      "541\n",
      "547\n",
      "557\n",
      "563\n",
      "569\n",
      "571\n",
      "577\n",
      "587\n",
      "593\n",
      "599\n",
      "601\n",
      "607\n",
      "613\n",
      "617\n",
      "619\n",
      "631\n",
      "641\n",
      "643\n",
      "647\n",
      "653\n",
      "659\n",
      "661\n",
      "673\n",
      "677\n",
      "683\n",
      "691\n",
      "701\n",
      "709\n",
      "719\n",
      "727\n",
      "733\n",
      "739\n",
      "743\n",
      "751\n",
      "757\n",
      "761\n",
      "769\n",
      "773\n",
      "787\n",
      "797\n",
      "809\n",
      "811\n",
      "821\n",
      "823\n",
      "827\n",
      "829\n",
      "839\n",
      "853\n",
      "857\n",
      "859\n",
      "863\n",
      "877\n",
      "881\n",
      "883\n",
      "887\n",
      "907\n",
      "911\n",
      "919\n",
      "929\n",
      "937\n",
      "941\n",
      "947\n",
      "953\n",
      "967\n",
      "971\n",
      "977\n",
      "983\n",
      "991\n",
      "997\n"
     ]
    }
   ],
   "source": [
    "for i in prime_number(1000):\n",
    "    print(i)"
   ]
  },
  {
   "cell_type": "code",
   "execution_count": null,
   "id": "cd262928-3c17-4a4d-a0ba-b8058878b167",
   "metadata": {},
   "outputs": [],
   "source": []
  }
 ],
 "metadata": {
  "kernelspec": {
   "display_name": "Python 3 (ipykernel)",
   "language": "python",
   "name": "python3"
  },
  "language_info": {
   "codemirror_mode": {
    "name": "ipython",
    "version": 3
   },
   "file_extension": ".py",
   "mimetype": "text/x-python",
   "name": "python",
   "nbconvert_exporter": "python",
   "pygments_lexer": "ipython3",
   "version": "3.10.8"
  }
 },
 "nbformat": 4,
 "nbformat_minor": 5
}
