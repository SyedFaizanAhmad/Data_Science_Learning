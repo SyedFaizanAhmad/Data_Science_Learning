{
 "cells": [
  {
   "cell_type": "markdown",
   "id": "9e21c735-3fa8-4fa1-bad5-a4e88b4cc4ac",
   "metadata": {},
   "source": [
    "Ans 1 ) Application Programming Interface (API) is a software interface that allows two applications to interact with each other without any user intervention. API is a collection of software functions and procedures. In simple terms, API means a software code that can be accessed or executed. API is defined as a code that helps two different software’s to communicate and exchange data with each other.\n",
    "It offers products or services to communicate with other products and services without having to know how they’re implemented.\n",
    "Examples of real life wher API is used:\n",
    "    1. Booking online ticket using bookmsyshow.com application.\n",
    "    2. Ordering food online using the swiggy."
   ]
  },
  {
   "cell_type": "markdown",
   "id": "6535d03c-78e3-435d-a064-c47831a466b9",
   "metadata": {},
   "source": [
    "Ans 2) Advantages of API:\n",
    "     a. You have the code written for you. Just plug and play. Your development time is reduced significantly.\n",
    "     b. If you are using standard APIs, then a lot of other people are using that as well. So your codebase is somewhat portable which at times is beneficial.\n",
    "     c.Standard APIs usually have a lot of free community support in case you need troubleshooting. If you tend to write all of your own code then you are pretty \n",
    "        much on your own as far as debugging is concerned.\n",
    "     c. APIs bring a new level of modularity to applications\n",
    "    Disadvantages of API:\n",
    "     a. As a single point of entry, an API is a gateway and can become a hacker's primary target. Once the API is compromised, all other applications and systems become vulnerable.\n",
    "    b. Concurrency limitaton"
   ]
  },
  {
   "cell_type": "code",
   "execution_count": null,
   "id": "492b17a9-aa36-45bf-a6ab-dc21513e1c6a",
   "metadata": {},
   "outputs": [],
   "source": [
    "Ans 3 ) Web API as the name suggests, is an API over the web which can be accessed using HTTP protocol. It is a concept and not a technology. \n",
    "       We can build Web API using different technologies such as Java, .NET etc. \n",
    "     The API uses TCP, SMTP and HTTP protocols whereas WEB API uses only HTTP protocol.        "
   ]
  },
  {
   "cell_type": "markdown",
   "id": "96dd8f65-307f-462f-8bce-4dfb18f4a7c7",
   "metadata": {},
   "source": [
    "Ans 4) SOAP (Simple Object Access Protocol) is an XML-based protocol for accessing web services over HTTP.\n",
    "      It is developed as an intermediate language so that applications built in various programming languages can communicate with each other effectively. \n",
    "    Web services use SOAP for exchange of XML data between applications. SOAP supports both stateful and stateless operations. Stateful means that the server keeps the \n",
    "    information that it receives from the client across multiple requests. These requests are chained together so that the server is aware about the previous requests. \n",
    "    Examples are bank transactions, flight bookings, etc. Stateless messaging has enough information about the state of the client so that the server does not have to bother.\n",
    "\n",
    "REST (Representational State Transfer) is an architectural approach for communication purposes often used in various web services development. \n",
    "It is a stateless client-server model. Web services that are defined on the concept of REST are RESTful web services. When a client makes a request via RESTful API, \n",
    "it transfers the representation of the state of the resources to the server. This information can be transferred in various formats via HTTP like, JSON, HTML, XLT, \n",
    "and Plain Text, but JSON is the most common language used due to its easy readability by machines and humans."
   ]
  },
  {
   "cell_type": "markdown",
   "id": "9f062bc6-c1d3-4ff8-a915-883d308fd6e0",
   "metadata": {},
   "source": [
    "Ans 5) 1.SOAP architectcture relies on SOAP (Simple Object Access Protocol) where REST relies on  REST (Representational State Transfer) architecture using HTTP.\n",
    "      2. SOAP transports data in standard XML format whereas REST API generally transports data in JSON. It is based on URI. Because REST follows stateless model, \n",
    "        REST does not enforces message format as XML or JSON etc.\n",
    "    3. SOAP works with WSDL whereas REST works with GET, POST, PUT, DELETE.\n",
    "    4. SOAP works over HTTP, HTTPS, SMTP, XMPP whereas REST works over HTTP and HTTPS.\n",
    "    5. SOAP is highly structured/typed whereas REST is less structured -> less bulky data.\n",
    "    6. SOAP is designed with large enterprise applications in mind whereas REST is designed with mobile devices in mind."
   ]
  },
  {
   "cell_type": "code",
   "execution_count": null,
   "id": "d699004c-dafa-491c-ab3a-e63c81eb029d",
   "metadata": {},
   "outputs": [],
   "source": []
  }
 ],
 "metadata": {
  "kernelspec": {
   "display_name": "Python 3 (ipykernel)",
   "language": "python",
   "name": "python3"
  },
  "language_info": {
   "codemirror_mode": {
    "name": "ipython",
    "version": 3
   },
   "file_extension": ".py",
   "mimetype": "text/x-python",
   "name": "python",
   "nbconvert_exporter": "python",
   "pygments_lexer": "ipython3",
   "version": "3.10.8"
  }
 },
 "nbformat": 4,
 "nbformat_minor": 5
}
