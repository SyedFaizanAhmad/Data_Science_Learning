{
 "cells": [
  {
   "cell_type": "code",
   "execution_count": 14,
   "id": "9354cd7f-df59-4367-9627-6952fd42b688",
   "metadata": {},
   "outputs": [
    {
     "name": "stdout",
     "output_type": "stream",
     "text": [
      "[1, 2, 3, 4, 44, 55, 66, 34, 56, 78, 89, 34, 1, 2, 3, 1, 4, 34, 55, 67, 78, 89, 45, 22, 61, 34, 56]\n",
      "The product of numeric values is  4134711838987085478833841242112000\n"
     ]
    }
   ],
   "source": [
    "list1 = [1,2,3,4, [44,55,66, True], False, (34,56,78,89,34), {1,2,3,3,2,1}, {1:34, \"key2\": [55, 67, 78, 89], 4: (45,\n",
    "22, 61, 34)}, [56, 'data science'], 'Machine Learning']\n",
    "a=1\n",
    "l = []\n",
    "for rec in list1:\n",
    "    if type(rec) == int:\n",
    "        l.append(rec)\n",
    "    elif type(rec) == list or type(rec) == tuple or type(rec) == set:\n",
    "        for rec1 in rec:\n",
    "            if type(rec1) == int:\n",
    "                l.append(rec1)\n",
    "    elif type(rec) == dict:\n",
    "        for rec2 in rec.keys():\n",
    "            if type(rec2) == int:\n",
    "                l.append(rec2)\n",
    "        for rec3 in rec.values():\n",
    "            if type(rec3) ==int:\n",
    "                l.append(rec3)\n",
    "            elif type(rec3)  == list or type(rec3) == tuple or type(rec3) == set:\n",
    "                for rec4 in rec3:\n",
    "                    if type(rec4) == int:\n",
    "                        l.append(rec4)\n",
    "print(l)\n",
    "for fnl in l:\n",
    "    a = a*fnl\n",
    "print(\"The product of numeric values is \", a)"
   ]
  },
  {
   "cell_type": "code",
   "execution_count": 2,
   "id": "4a3e7ebf-3176-47c0-a881-ca0710f3f4f8",
   "metadata": {},
   "outputs": [
    {
     "name": "stdin",
     "output_type": "stream",
     "text": [
      "Enter your string Faizan Is here\n"
     ]
    },
    {
     "name": "stdout",
     "output_type": "stream",
     "text": [
      "uzrazm$rh$sviv\n"
     ]
    }
   ],
   "source": [
    "#Ans2)\n",
    "dict1 = {97:122,\n",
    "98:121,\n",
    "99:120,\n",
    "100:119,\n",
    "101:118,\n",
    "102:117,\n",
    "103:116,\n",
    "104:115,\n",
    "105:114,\n",
    "106:113,\n",
    "107:112,\n",
    "108:111,\n",
    "109:110,\n",
    "110:109,\n",
    "111:108,\n",
    "112:107,\n",
    "113:106,\n",
    "114:105,\n",
    "115:104,\n",
    "116:103,\n",
    "117:102,\n",
    "118:101,\n",
    "119:100,\n",
    "120:99,\n",
    "121:98,\n",
    "122:97,\n",
    "32:36}\n",
    "inp_str = input(\"Enter your string\").lower()\n",
    "print(inp_str.translate(dict1))"
   ]
  },
  {
   "cell_type": "code",
   "execution_count": null,
   "id": "877fd330-3d24-4f5f-b006-f8ded2cd1a10",
   "metadata": {},
   "outputs": [],
   "source": []
  }
 ],
 "metadata": {
  "kernelspec": {
   "display_name": "Python 3 (ipykernel)",
   "language": "python",
   "name": "python3"
  },
  "language_info": {
   "codemirror_mode": {
    "name": "ipython",
    "version": 3
   },
   "file_extension": ".py",
   "mimetype": "text/x-python",
   "name": "python",
   "nbconvert_exporter": "python",
   "pygments_lexer": "ipython3",
   "version": "3.10.8"
  }
 },
 "nbformat": 4,
 "nbformat_minor": 5
}
