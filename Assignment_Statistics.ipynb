{
 "cells": [
  {
   "cell_type": "markdown",
   "id": "18a1b6ec-f40e-4108-b578-a02e2d1e1496",
   "metadata": {},
   "source": [
    "#Ans 1)\n",
    "Statistics is the science of collecting, organizing and analyzing data. statistics is at the core of sophisticated machine learning algorithms, capturing and translating data patterns into actionable evidence. Data scientists use statistics to gather, review, analyze, and \n",
    "draw conclusions from data, as well as apply quantified mathematical models to appropriate variables"
   ]
  },
  {
   "cell_type": "markdown",
   "id": "caa37f41-78cd-4da5-bc9c-ca94a219a7f4",
   "metadata": {},
   "source": [
    "#Ans2) There are two types of statistics:\n",
    "Descriptive Statistics\n",
    "Inferential Statistics\n",
    "\n",
    "In the descriptive Statistics, the Data is described in a summarized way. The summarization is done from the sample of the population using different parameters like Mean or standard deviation. Descriptive Statistics are a way of using charts, graphs, and summary measures to organize, represent, and explain a set of Data. \n",
    "\n",
    "Data is typically arranged and displayed in tables or graphs summarizing details such as histograms, pie charts, bars or scatter plots.\n",
    "\n",
    "Descriptive Statistics are just descriptive and thus do not require normalization beyond the Data collected.\n",
    "Eg: Measure of central tendency (mean, median and mode)\n",
    "\n",
    "In the Inferential Statistics, we try to interpret the Meaning of descriptive Statistics. After the Data has been collected, analyzed, and summarised we use Inferential Statistics to describe the Meaning of the collected Data. \n",
    "\n",
    "Inferential Statistics use the probability principle to assess whether trends contained in the research sample can be generalized to the larger population from which the sample originally comes.\n",
    "\n",
    "Inferential Statistics are intended to test hypotheses and investigate relationships between variables and can be used to make population predictions.\n",
    "\n",
    "Inferential Statistics are used to draw conclusions and inferences, i.e., to make valid generalizations from samples.\n",
    "Example: Inferential statistics You randomly select a sample of 11th graders in your state and collect data on their SAT scores and other characteristics. You can use inferential statistics to make estimates and test hypotheses about the whole population of 11th graders in the state based on your sample data"
   ]
  },
  {
   "cell_type": "markdown",
   "id": "43aed4dc-b59a-449c-9719-e20bb0381d19",
   "metadata": {},
   "source": [
    "#Ans 3) The data is classified into majorly four categories:\n",
    "Nominal data\n",
    "Ordinal data\n",
    "Discrete data\n",
    "Continuous data\n",
    "\n",
    "Qualitative or Categorical Data\n",
    "Qualitative data, also known as the categorical data, describes the data that fits into the categories. Qualitative data are not numerical. The categorical information involves categorical variables that describe the features such as a person’s gender, home town etc. Categorical measures are defined in terms of natural language specifications, but not in terms of numbers.\n",
    "\n",
    "Sometimes categorical data can hold numerical values (quantitative value), but those values do not have a mathematical sense. Examples of the categorical data are birthdate, favourite sport, school postcode. Here, the birthdate and school postcode hold the quantitative value, but it does not give numerical meaning.\n",
    "\n",
    "Nominal Data\n",
    "Nominal data is one of the types of qualitative information which helps to label the variables without providing the numerical value. Nominal data is also called the nominal scale. It cannot be ordered and measured. But sometimes, the data can be qualitative and quantitative. Examples of nominal data are letters, symbols, words, gender etc.\n",
    "\n",
    "The nominal data are examined using the grouping method. In this method, the data are grouped into categories, and then the frequency or the percentage of the data can be calculated. These data are visually represented using the pie charts.\n",
    "\n",
    "Ordinal Data\n",
    "Ordinal data/variable is a type of data that follows a natural order. The significant feature of the nominal data is that the difference between the data values is not determined. This variable is mostly found in surveys, finance, economics, questionnaires, and so on.\n",
    "\n",
    "The ordinal data is commonly represented using a bar chart. These data are investigated and interpreted through many visualisation tools. The information may be expressed using tables in which each row in the table shows the distinct category.\n",
    "\n",
    "Quantitative or Numerical Data\n",
    "Quantitative data is also known as numerical data which represents the numerical value (i.e., how much, how often, how many). Numerical data gives information about the quantities of a specific thing. Some examples of numerical data are height, length, size, weight, and so on. The quantitative data can be classified into two different types based on the data sets. The two different classifications of numerical data are discrete data and continuous data.\n",
    "\n",
    "Discrete Data\n",
    "Discrete data can take only discrete values. Discrete information contains only a finite number of possible values. Those values cannot be subdivided meaningfully. Here, things can be counted in whole numbers.\n",
    "\n",
    "Example: Number of students in the class\n",
    "\n",
    "Continuous Data\n",
    "Continuous data is data that can be calculated. It has an infinite number of probable values that can be selected within a given specific range.\n",
    "\n",
    "Example: Temperature range"
   ]
  },
  {
   "cell_type": "markdown",
   "id": "8f6b57d8-d70c-40eb-9007-4ee569215f92",
   "metadata": {},
   "source": [
    "#Ans 4(i) ) Qaulitative\n",
    "     4(ii) ) Qaulitative\n",
    "     4(iii) ) Qauntitative\n",
    "     4(iii) ) Qauntitative"
   ]
  },
  {
   "cell_type": "markdown",
   "id": "8c7866bd-4c4a-43be-84f8-43e717a07a61",
   "metadata": {},
   "source": [
    "#Ans 5) There are 4 levels of measurement:\n",
    "Nominal: the data can only be categorized\n",
    "Ordinal: the data can be categorized and ranked\n",
    "Interval: the data can be categorized, ranked, and evenly spaced\n",
    "Ratio: the data can be categorized, ranked, evenly spaced, and has a natural zero.\n",
    "Depending on the level of measurement of the variable, what you can do to analyze your data may be limited. \n",
    "There is a hierarchy in the complexity and precision of the level of measurement, from low (nominal) to high (ratio).\n",
    "Nominal :\n",
    "You can categorize your data by labelling them in mutually exclusive groups, but there is no order between the categories.\t\n",
    "Examples: City of birth\n",
    "Gender\n",
    "Ethnicity\n",
    "Car brands\n",
    "Marital status\n",
    "Ordinal level:\n",
    "You can categorize and rank your data in an order, but you cannot say anything about the intervals between the rankings.\n",
    "Although you can rank the top 5 Olympic medallists, this scale does not tell you how close or far apart they are in number of wins.\n",
    "Examples:\n",
    "    Top 5 Olympic medallists\n",
    "Language ability (e.g., beginner, intermediate, fluent)\n",
    "Interval level:\n",
    "    You can categorize, rank, and infer equal intervals between neighboring data points, but there is no true zero point.\n",
    "The difference between any two adjacent temperatures is the same: one degree. But  zero degrees is defined differently depending on the scale – it doesn’t mean an absolute absence of temperature.\n",
    "\n",
    "The same is true for test scores and personality inventories. A zero on a test is arbitrary; it does not mean that the test-taker has an absolute lack of the trait being measured.\n",
    "Examples:\n",
    "    Test scores (e.g., IQ or exams)\n",
    "Personality inventories\n",
    "Temperature in Fahrenheit or Celsius\n",
    "\n",
    "Ratio Level:\n",
    "You can categorize, rank, and infer equal intervals between neighboring data points, and there is a true zero point.\n",
    "A true zero means there is an absence of the variable of interest. In ratio scales, zero does mean an absolute lack of the variable.\n",
    "\n",
    "For example, in the Kelvin temperature scale, there are no negative degrees of temperature – zero means an absolute lack of thermal energy."
   ]
  },
  {
   "cell_type": "markdown",
   "id": "d589a5ed-c6e5-492b-b35b-d81171cdba1e",
   "metadata": {},
   "source": [
    "#Ans 6)\n",
    "It is important to understand the level of measurement of variables in data research, because the level of measurement determines the type of statistical analysis\n",
    "that can be conducted, and, therefore, the type of conclusions that can be drawn from the research."
   ]
  },
  {
   "cell_type": "markdown",
   "id": "df2cf2f7-c1d5-4ecd-8f34-abef0a05d959",
   "metadata": {},
   "source": [
    "# Ans 7) While Nominal Data is classified without any intrinsic ordering or rank, Ordinal Data has some predetermined or natural order. \n",
    "Nominal data is qualitative or categorical data, while Ordinal data is considered “in-between” qualitative and quantitative data"
   ]
  },
  {
   "cell_type": "markdown",
   "id": "290516d5-92fe-4e5f-9343-d793f40eec7a",
   "metadata": {},
   "source": [
    "#Ans 8) Histogram can be used to display data in terms of range."
   ]
  },
  {
   "cell_type": "markdown",
   "id": "5472c964-4ded-43f6-b833-1ee001096179",
   "metadata": {},
   "source": [
    "# Ans 9)\n",
    "In the descriptive Statistics, the Data is described in a summarized way. The summarization is done from the sample of the population using different parameters like Mean or standard deviation. \n",
    "Descriptive Statistics are a way of using charts, graphs, and summary measures to organize, represent, and explain a set of Data. \n",
    "Data is typically arranged and displayed in tables or graphs summarizing details such as histograms, pie charts, bars or scatter plots.\n",
    "Descriptive Statistics are just descriptive and thus do not require normalization beyond the Data collected.\n",
    "Eg: Measure of central tendency (mean, median and mode)\n",
    "\n",
    "In the Inferential Statistics, we try to interpret the Meaning of descriptive Statistics. After the Data has been collected, analyzed, and summarised we use Inferential Statistics to describe the Meaning of the collected Data. \n",
    "\n",
    "Inferential Statistics use the probability principle to assess whether trends contained in the research sample can be generalized to the larger population from which the sample originally comes.\n",
    "\n",
    "Inferential Statistics are intended to test hypotheses and investigate relationships between variables and can be used to make population predictions.\n",
    "\n",
    "Inferential Statistics are used to draw conclusions and inferences, i.e., to make valid generalizations from samples.\n",
    "Example: Inferential statistics You randomly select a sample of 11th graders in your state and collect data on their SAT scores and other characteristics. You can use inferential statistics to make estimates and test hypotheses about the whole population of 11th graders in the state based on your sample data"
   ]
  },
  {
   "cell_type": "code",
   "execution_count": null,
   "id": "fdd2d39a-b3bf-4c48-bae9-3ba36e9b7791",
   "metadata": {},
   "outputs": [],
   "source": [
    "#Ans 10) Measures of central tendency tell us what is common or typical about our variable. Three measures of central tendency are the mode, the median and the mean. \n",
    "The mode is used almost exclusively with nominal-level data, as it is the only measure of central tendency available for such variables."
   ]
  }
 ],
 "metadata": {
  "kernelspec": {
   "display_name": "Python 3 (ipykernel)",
   "language": "python",
   "name": "python3"
  },
  "language_info": {
   "codemirror_mode": {
    "name": "ipython",
    "version": 3
   },
   "file_extension": ".py",
   "mimetype": "text/x-python",
   "name": "python",
   "nbconvert_exporter": "python",
   "pygments_lexer": "ipython3",
   "version": "3.10.8"
  }
 },
 "nbformat": 4,
 "nbformat_minor": 5
}
